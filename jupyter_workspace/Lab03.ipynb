{
 "cells": [
  {
   "cell_type": "markdown",
   "id": "fccad918-c298-4947-9625-92735ee40fed",
   "metadata": {},
   "source": [
    "# Develop Glue ETL Job in Notebook\n",
    "https://catalog.us-east-1.prod.workshops.aws/workshops/ee59d21b-4cb8-4b3d-a629-24537cf37bb5/en-US/lab3/etl-job"
   ]
  },
  {
   "cell_type": "code",
   "execution_count": 1,
   "id": "4838a645-1b24-474e-aac7-2a96caf65797",
   "metadata": {},
   "outputs": [
    {
     "name": "stdout",
     "output_type": "stream",
     "text": [
      "Starting Spark application\n"
     ]
    },
    {
     "data": {
      "text/html": [
       "<table>\n",
       "<tr><th>ID</th><th>YARN Application ID</th><th>Kind</th><th>State</th><th>Spark UI</th><th>Driver log</th><th>User</th><th>Current session?</th></tr><tr><td>7</td><td>None</td><td>pyspark</td><td>idle</td><td></td><td></td><td>None</td><td>✔</td></tr></table>"
      ],
      "text/plain": [
       "<IPython.core.display.HTML object>"
      ]
     },
     "metadata": {},
     "output_type": "display_data"
    },
    {
     "data": {
      "application/vnd.jupyter.widget-view+json": {
       "model_id": "",
       "version_major": 2,
       "version_minor": 0
      },
      "text/plain": [
       "FloatProgress(value=0.0, bar_style='info', description='Progress:', layout=Layout(height='25px', width='50%'),…"
      ]
     },
     "metadata": {},
     "output_type": "display_data"
    },
    {
     "name": "stdout",
     "output_type": "stream",
     "text": [
      "SparkSession available as 'spark'.\n"
     ]
    },
    {
     "data": {
      "application/vnd.jupyter.widget-view+json": {
       "model_id": "",
       "version_major": 2,
       "version_minor": 0
      },
      "text/plain": [
       "FloatProgress(value=0.0, bar_style='info', description='Progress:', layout=Layout(height='25px', width='50%'),…"
      ]
     },
     "metadata": {},
     "output_type": "display_data"
    }
   ],
   "source": [
    "from pyspark.sql.functions import udf, col\n",
    "from pyspark.sql.types import IntegerType, StringType\n",
    "from pyspark import SparkContext\n",
    "from pyspark.sql import SQLContext\n",
    "\n",
    "from datetime import datetime\n",
    "from pycountry_convert import (\n",
    "    convert_country_alpha2_to_country_name,\n",
    "    convert_country_alpha2_to_continent,\n",
    "    convert_country_name_to_country_alpha2,\n",
    "    convert_country_alpha3_to_country_alpha2,\n",
    ")\n",
    "\n",
    "def get_country_code2(country_name):\n",
    "    country_code2 = 'US'\n",
    "    try:\n",
    "        country_code2 = convert_country_name_to_country_alpha2(country_name)\n",
    "    except KeyError:\n",
    "        country_code2 = ''\n",
    "    return country_code2\n",
    "\n",
    "\n",
    "udf_get_country_code2 = udf(lambda z: get_country_code2(z), StringType())\n",
    "\n",
    "s3_bucket = \"s3://bucket001/\"\n",
    "job_time_string = datetime.now().strftime(\"%Y%m%d%H%M%S\")\n",
    "\n",
    "df = spark.read.load(s3_bucket + \"input/lab2/sample.csv\", \n",
    "                     format=\"csv\", \n",
    "                     sep=\",\", \n",
    "                     inferSchema=\"true\", \n",
    "                     header=\"true\")\n",
    "new_df = df.withColumn('country_code_2', udf_get_country_code2(col(\"country\")))\n"
   ]
  },
  {
   "cell_type": "code",
   "execution_count": 2,
   "id": "a96665d8-163a-4d79-b92a-11d5a24f0bf9",
   "metadata": {},
   "outputs": [
    {
     "data": {
      "application/vnd.jupyter.widget-view+json": {
       "model_id": "",
       "version_major": 2,
       "version_minor": 0
      },
      "text/plain": [
       "FloatProgress(value=0.0, bar_style='info', description='Progress:', layout=Layout(height='25px', width='50%'),…"
      ]
     },
     "metadata": {},
     "output_type": "display_data"
    }
   ],
   "source": [
    "new_df.write.csv(s3_bucket + \"/output/lab3/notebook/\" + job_time_string + \"/\")"
   ]
  },
  {
   "cell_type": "markdown",
   "id": "fb8ff5c4-1506-480c-8d89-2e18cea5385a",
   "metadata": {},
   "source": [
    "> DynamoDBへの書き出しは未実施"
   ]
  }
 ],
 "metadata": {
  "kernelspec": {
   "display_name": "PySpark",
   "language": "python",
   "name": "pysparkkernel"
  },
  "language_info": {
   "codemirror_mode": {
    "name": "python",
    "version": 3
   },
   "file_extension": ".py",
   "mimetype": "text/x-python",
   "name": "pyspark",
   "pygments_lexer": "python3"
  }
 },
 "nbformat": 4,
 "nbformat_minor": 5
}

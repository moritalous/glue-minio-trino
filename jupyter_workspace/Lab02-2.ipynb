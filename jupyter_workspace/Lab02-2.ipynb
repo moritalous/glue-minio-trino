{
 "cells": [
  {
   "cell_type": "markdown",
   "id": "308e550e-f16b-4468-bc29-9087b1afbb55",
   "metadata": {},
   "source": [
    "# Spark DataFrame\n",
    "https://catalog.us-east-1.prod.workshops.aws/workshops/ee59d21b-4cb8-4b3d-a629-24537cf37bb5/en-US/lab2/sparkintro"
   ]
  },
  {
   "cell_type": "markdown",
   "id": "490b0d3c-646a-4700-8bf8-f04a099ab741",
   "metadata": {},
   "source": [
    "## DataFrameの作成"
   ]
  },
  {
   "cell_type": "code",
   "execution_count": 1,
   "id": "462dfc30-0938-4342-bc0e-b2ef560f4470",
   "metadata": {},
   "outputs": [
    {
     "name": "stdout",
     "output_type": "stream",
     "text": [
      "Starting Spark application\n"
     ]
    },
    {
     "data": {
      "text/html": [
       "<table>\n",
       "<tr><th>ID</th><th>YARN Application ID</th><th>Kind</th><th>State</th><th>Spark UI</th><th>Driver log</th><th>User</th><th>Current session?</th></tr><tr><td>4</td><td>None</td><td>pyspark</td><td>idle</td><td></td><td></td><td>None</td><td>✔</td></tr></table>"
      ],
      "text/plain": [
       "<IPython.core.display.HTML object>"
      ]
     },
     "metadata": {},
     "output_type": "display_data"
    },
    {
     "data": {
      "application/vnd.jupyter.widget-view+json": {
       "model_id": "",
       "version_major": 2,
       "version_minor": 0
      },
      "text/plain": [
       "FloatProgress(value=0.0, bar_style='info', description='Progress:', layout=Layout(height='25px', width='50%'),…"
      ]
     },
     "metadata": {},
     "output_type": "display_data"
    },
    {
     "name": "stdout",
     "output_type": "stream",
     "text": [
      "SparkSession available as 'spark'.\n"
     ]
    },
    {
     "data": {
      "application/vnd.jupyter.widget-view+json": {
       "model_id": "",
       "version_major": 2,
       "version_minor": 0
      },
      "text/plain": [
       "FloatProgress(value=0.0, bar_style='info', description='Progress:', layout=Layout(height='25px', width='50%'),…"
      ]
     },
     "metadata": {},
     "output_type": "display_data"
    }
   ],
   "source": [
    "df = spark.read.load(\"s3://bucket001/input/lab2/sample.csv\", \n",
    "                          format=\"csv\", \n",
    "                          sep=\",\", \n",
    "                          inferSchema=\"true\",\n",
    "                          header=\"true\")"
   ]
  },
  {
   "cell_type": "code",
   "execution_count": 2,
   "id": "bfd95669-e7f8-4ffe-9b4e-4340ea74e598",
   "metadata": {},
   "outputs": [
    {
     "data": {
      "application/vnd.jupyter.widget-view+json": {
       "model_id": "",
       "version_major": 2,
       "version_minor": 0
      },
      "text/plain": [
       "FloatProgress(value=0.0, bar_style='info', description='Progress:', layout=Layout(height='25px', width='50%'),…"
      ]
     },
     "metadata": {},
     "output_type": "display_data"
    },
    {
     "name": "stdout",
     "output_type": "stream",
     "text": [
      "<class 'pyspark.sql.dataframe.DataFrame'>"
     ]
    }
   ],
   "source": [
    "type(df)"
   ]
  },
  {
   "cell_type": "code",
   "execution_count": 3,
   "id": "12c24c8b-857d-47ba-93e4-3a6c6e064c6a",
   "metadata": {},
   "outputs": [
    {
     "data": {
      "application/vnd.jupyter.widget-view+json": {
       "model_id": "",
       "version_major": 2,
       "version_minor": 0
      },
      "text/plain": [
       "FloatProgress(value=0.0, bar_style='info', description='Progress:', layout=Layout(height='25px', width='50%'),…"
      ]
     },
     "metadata": {},
     "output_type": "display_data"
    },
    {
     "name": "stdout",
     "output_type": "stream",
     "text": [
      "root\n",
      " |-- uuid: integer (nullable = true)\n",
      " |-- country: string (nullable = true)\n",
      " |-- itemtype: string (nullable = true)\n",
      " |-- saleschannel: string (nullable = true)\n",
      " |-- orderpriority: string (nullable = true)\n",
      " |-- orderdate: string (nullable = true)\n",
      " |-- region: string (nullable = true)\n",
      " |-- shipdate: string (nullable = true)\n",
      " |-- unitssold: integer (nullable = true)\n",
      " |-- unitprice: double (nullable = true)\n",
      " |-- unitcost: double (nullable = true)\n",
      " |-- totalrevenue: double (nullable = true)\n",
      " |-- totalcost: double (nullable = true)\n",
      " |-- totalprofit: double (nullable = true)"
     ]
    }
   ],
   "source": [
    "# spark, sparkDFcsv are from the previous example\n",
    "# Print the schema in a tree format\n",
    "\n",
    "df.printSchema()"
   ]
  },
  {
   "cell_type": "code",
   "execution_count": 4,
   "id": "a9791a9f-9970-4a7a-b86f-5e87223d162f",
   "metadata": {},
   "outputs": [
    {
     "data": {
      "application/vnd.jupyter.widget-view+json": {
       "model_id": "",
       "version_major": 2,
       "version_minor": 0
      },
      "text/plain": [
       "FloatProgress(value=0.0, bar_style='info', description='Progress:', layout=Layout(height='25px', width='50%'),…"
      ]
     },
     "metadata": {},
     "output_type": "display_data"
    },
    {
     "name": "stdout",
     "output_type": "stream",
     "text": [
      "100000"
     ]
    }
   ],
   "source": [
    "## count the total no. of rows in DataFrame\n",
    "\n",
    "df.count()"
   ]
  },
  {
   "cell_type": "code",
   "execution_count": 5,
   "id": "90e8c828-44d9-4c96-8b90-5034a319ae68",
   "metadata": {},
   "outputs": [
    {
     "data": {
      "application/vnd.jupyter.widget-view+json": {
       "model_id": "",
       "version_major": 2,
       "version_minor": 0
      },
      "text/plain": [
       "FloatProgress(value=0.0, bar_style='info', description='Progress:', layout=Layout(height='25px', width='50%'),…"
      ]
     },
     "metadata": {},
     "output_type": "display_data"
    },
    {
     "name": "stdout",
     "output_type": "stream",
     "text": [
      "DataFrame[Country: string]"
     ]
    }
   ],
   "source": [
    "# Select only the \"Country\" column\n",
    "\n",
    "df.select('Country')"
   ]
  },
  {
   "cell_type": "code",
   "execution_count": 6,
   "id": "52c5d257-95b4-4c0d-82d9-0c847d397cf1",
   "metadata": {},
   "outputs": [
    {
     "data": {
      "application/vnd.jupyter.widget-view+json": {
       "model_id": "",
       "version_major": 2,
       "version_minor": 0
      },
      "text/plain": [
       "FloatProgress(value=0.0, bar_style='info', description='Progress:', layout=Layout(height='25px', width='50%'),…"
      ]
     },
     "metadata": {},
     "output_type": "display_data"
    },
    {
     "name": "stdout",
     "output_type": "stream",
     "text": [
      "+--------------------+\n",
      "|             Country|\n",
      "+--------------------+\n",
      "|          Azerbaijan|\n",
      "|              Panama|\n",
      "|Sao Tome and Prin...|\n",
      "|Sao Tome and Prin...|\n",
      "|              Belize|\n",
      "|             Denmark|\n",
      "|             Germany|\n",
      "|              Turkey|\n",
      "|      United Kingdom|\n",
      "|          Kazakhstan|\n",
      "|               Haiti|\n",
      "|               Italy|\n",
      "|               Malta|\n",
      "|              Jordan|\n",
      "|            Cambodia|\n",
      "|Saint Kitts and N...|\n",
      "|            Cameroon|\n",
      "|             Bahrain|\n",
      "|     Solomon Islands|\n",
      "|              Monaco|\n",
      "+--------------------+\n",
      "only showing top 20 rows"
     ]
    }
   ],
   "source": [
    "# Select only the \"Country\" column\n",
    "# calling action\n",
    "\n",
    "df.select('Country').show()"
   ]
  },
  {
   "cell_type": "code",
   "execution_count": 7,
   "id": "e7711619-67d2-4104-a0ba-e8f97e558af9",
   "metadata": {},
   "outputs": [
    {
     "data": {
      "application/vnd.jupyter.widget-view+json": {
       "model_id": "",
       "version_major": 2,
       "version_minor": 0
      },
      "text/plain": [
       "FloatProgress(value=0.0, bar_style='info', description='Progress:', layout=Layout(height='25px', width='50%'),…"
      ]
     },
     "metadata": {},
     "output_type": "display_data"
    },
    {
     "name": "stdout",
     "output_type": "stream",
     "text": [
      "+---------------------+\n",
      "|Country              |\n",
      "+---------------------+\n",
      "|Azerbaijan           |\n",
      "|Panama               |\n",
      "|Sao Tome and Principe|\n",
      "|Sao Tome and Principe|\n",
      "|Belize               |\n",
      "|Denmark              |\n",
      "|Germany              |\n",
      "|Turkey               |\n",
      "|United Kingdom       |\n",
      "|Kazakhstan           |\n",
      "+---------------------+\n",
      "only showing top 10 rows"
     ]
    }
   ],
   "source": [
    "df.select('Country').show(10,truncate=False)"
   ]
  },
  {
   "cell_type": "code",
   "execution_count": 8,
   "id": "15664b67-0f16-440f-aca3-41020979d2b6",
   "metadata": {},
   "outputs": [
    {
     "data": {
      "application/vnd.jupyter.widget-view+json": {
       "model_id": "",
       "version_major": 2,
       "version_minor": 0
      },
      "text/plain": [
       "FloatProgress(value=0.0, bar_style='info', description='Progress:', layout=Layout(height='25px', width='50%'),…"
      ]
     },
     "metadata": {},
     "output_type": "display_data"
    },
    {
     "name": "stdout",
     "output_type": "stream",
     "text": [
      "+---------------------+-------------+------------+------------+\n",
      "|Country              |ItemType     |SalesChannel|TotalRevenue|\n",
      "+---------------------+-------------+------------+------------+\n",
      "|Azerbaijan           |Snacks       |Online      |142509.72   |\n",
      "|Panama               |Cosmetics    |Offline     |1989697.2   |\n",
      "|Sao Tome and Principe|Fruits       |Offline     |93169.38    |\n",
      "|Sao Tome and Principe|Personal Care|Online      |745214.14   |\n",
      "|Belize               |Household    |Offline     |3914725.66  |\n",
      "|Denmark              |Clothes      |Online      |125562.72   |\n",
      "|Germany              |Cosmetics    |Offline     |3481860.8   |\n",
      "|Turkey               |Fruits       |Online      |58844.31    |\n",
      "|United Kingdom       |Snacks       |Online      |1253749.86  |\n",
      "|Kazakhstan           |Cosmetics    |Online      |1205797.6   |\n",
      "+---------------------+-------------+------------+------------+\n",
      "only showing top 10 rows"
     ]
    }
   ],
   "source": [
    "### show multiple columns and create new dataframe\n",
    "\n",
    "dfselect = df.select(df['Country'], df['ItemType'], df['SalesChannel'],df['TotalRevenue'])\n",
    "\n",
    "dfselect.show(10,truncate=False)"
   ]
  },
  {
   "cell_type": "code",
   "execution_count": 9,
   "id": "bc413774-2f27-4c76-8fad-c107debf6dda",
   "metadata": {},
   "outputs": [
    {
     "data": {
      "application/vnd.jupyter.widget-view+json": {
       "model_id": "",
       "version_major": 2,
       "version_minor": 0
      },
      "text/plain": [
       "FloatProgress(value=0.0, bar_style='info', description='Progress:', layout=Layout(height='25px', width='50%'),…"
      ]
     },
     "metadata": {},
     "output_type": "display_data"
    },
    {
     "name": "stdout",
     "output_type": "stream",
     "text": [
      "+--------------+---------------+------------+------------+\n",
      "|Country       |ItemType       |SalesChannel|TotalRevenue|\n",
      "+--------------+---------------+------------+------------+\n",
      "|United Kingdom|Snacks         |Online      |1253749.86  |\n",
      "|United Kingdom|Clothes        |Offline     |961008.32   |\n",
      "|United Kingdom|Personal Care  |Offline     |337626.63   |\n",
      "|United Kingdom|Office Supplies|Offline     |3431876.7   |\n",
      "|United Kingdom|Personal Care  |Offline     |161988.86   |\n",
      "|United Kingdom|Personal Care  |Online      |673863.85   |\n",
      "|United Kingdom|Personal Care  |Online      |380534.88   |\n",
      "|United Kingdom|Baby Food      |Offline     |16593.2     |\n",
      "|United Kingdom|Household      |Offline     |5328116.71  |\n",
      "|United Kingdom|Cereal         |Offline     |825679.8    |\n",
      "+--------------+---------------+------------+------------+\n",
      "only showing top 10 rows"
     ]
    }
   ],
   "source": [
    "### Filter by country\n",
    "\n",
    "dfselect.filter(df['Country'] == 'United Kingdom').show(10,truncate=False)"
   ]
  },
  {
   "cell_type": "code",
   "execution_count": 10,
   "id": "92a114eb-58e7-4fec-a6c7-1ff4bd310dff",
   "metadata": {},
   "outputs": [
    {
     "data": {
      "application/vnd.jupyter.widget-view+json": {
       "model_id": "",
       "version_major": 2,
       "version_minor": 0
      },
      "text/plain": [
       "FloatProgress(value=0.0, bar_style='info', description='Progress:', layout=Layout(height='25px', width='50%'),…"
      ]
     },
     "metadata": {},
     "output_type": "display_data"
    },
    {
     "name": "stdout",
     "output_type": "stream",
     "text": [
      "+--------------+-------------+------------+------------+\n",
      "|Country       |ItemType     |SalesChannel|TotalRevenue|\n",
      "+--------------+-------------+------------+------------+\n",
      "|United Kingdom|Personal Care|Offline     |161988.86   |\n",
      "|United Kingdom|Baby Food    |Offline     |16593.2     |\n",
      "|United Kingdom|Personal Care|Offline     |181277.14   |\n",
      "|United Kingdom|Vegetables   |Offline     |91665.7     |\n",
      "|United Kingdom|Fruits       |Online      |33317.43    |\n",
      "|United Kingdom|Fruits       |Online      |35080.8     |\n",
      "|United Kingdom|Snacks       |Offline     |24260.22    |\n",
      "|United Kingdom|Fruits       |Online      |78810.51    |\n",
      "|United Kingdom|Snacks       |Offline     |108789.54   |\n",
      "|United Kingdom|Fruits       |Online      |75386.4     |\n",
      "+--------------+-------------+------------+------------+\n",
      "only showing top 10 rows"
     ]
    }
   ],
   "source": [
    "### Filter by country and Total Revenue and create new dataframe\n",
    "\n",
    "dfselectfilter = dfselect.filter((df['Country'] == 'United Kingdom') & (df['TotalRevenue'] <= 200000.00))\n",
    "\n",
    "dfselectfilter.show(10,truncate=False)"
   ]
  },
  {
   "cell_type": "code",
   "execution_count": 11,
   "id": "bfc01c75-3c7f-4a3c-8818-b94755db28cb",
   "metadata": {},
   "outputs": [
    {
     "data": {
      "application/vnd.jupyter.widget-view+json": {
       "model_id": "",
       "version_major": 2,
       "version_minor": 0
      },
      "text/plain": [
       "FloatProgress(value=0.0, bar_style='info', description='Progress:', layout=Layout(height='25px', width='50%'),…"
      ]
     },
     "metadata": {},
     "output_type": "display_data"
    },
    {
     "name": "stdout",
     "output_type": "stream",
     "text": [
      "+---------------+------------------+\n",
      "|ItemType       |sum(TotalRevenue) |\n",
      "+---------------+------------------+\n",
      "|Household      |177091.55         |\n",
      "|Cosmetics      |73886.8           |\n",
      "|Personal Care  |1086927.2699999998|\n",
      "|Fruits         |1491064.6199999996|\n",
      "|Baby Food      |180482.96         |\n",
      "|Beverages      |2300803.05        |\n",
      "|Office Supplies|172570.65         |\n",
      "|Snacks         |414407.28         |\n",
      "|Cereal         |470435.9          |\n",
      "|Vegetables     |1096136.9000000001|\n",
      "+---------------+------------------+\n",
      "only showing top 10 rows"
     ]
    }
   ],
   "source": [
    "dfselectfiltergroupby = dfselectfilter.groupBy(\"ItemType\").sum(\"TotalRevenue\")\n",
    "\n",
    "dfselectfiltergroupby.show(10,truncate=False)"
   ]
  },
  {
   "cell_type": "code",
   "execution_count": 12,
   "id": "5ede330d-e8ec-4ca5-8d1f-fe046cacc831",
   "metadata": {},
   "outputs": [
    {
     "data": {
      "application/vnd.jupyter.widget-view+json": {
       "model_id": "",
       "version_major": 2,
       "version_minor": 0
      },
      "text/plain": [
       "FloatProgress(value=0.0, bar_style='info', description='Progress:', layout=Layout(height='25px', width='50%'),…"
      ]
     },
     "metadata": {},
     "output_type": "display_data"
    },
    {
     "name": "stdout",
     "output_type": "stream",
     "text": [
      "+---------------+------------------+\n",
      "|ItemType       |sum(TotalRevenue) |\n",
      "+---------------+------------------+\n",
      "|Beverages      |2300803.05        |\n",
      "|Fruits         |1491064.6199999996|\n",
      "|Vegetables     |1096136.9000000001|\n",
      "|Personal Care  |1086927.2699999998|\n",
      "|Clothes        |967565.12         |\n",
      "|Cereal         |470435.9          |\n",
      "|Snacks         |414407.28         |\n",
      "|Baby Food      |180482.96         |\n",
      "|Household      |177091.55         |\n",
      "|Office Supplies|172570.65         |\n",
      "+---------------+------------------+\n",
      "only showing top 10 rows"
     ]
    }
   ],
   "source": [
    "dfselectfiltergroupbyorderby = dfselectfiltergroupby.orderBy(\"sum(TotalRevenue)\", ascending=False)\n",
    "\n",
    "dfselectfiltergroupbyorderby.show(10,truncate=False)"
   ]
  }
 ],
 "metadata": {
  "kernelspec": {
   "display_name": "PySpark",
   "language": "python",
   "name": "pysparkkernel"
  },
  "language_info": {
   "codemirror_mode": {
    "name": "python",
    "version": 3
   },
   "file_extension": ".py",
   "mimetype": "text/x-python",
   "name": "pyspark",
   "pygments_lexer": "python3"
  }
 },
 "nbformat": 4,
 "nbformat_minor": 5
}

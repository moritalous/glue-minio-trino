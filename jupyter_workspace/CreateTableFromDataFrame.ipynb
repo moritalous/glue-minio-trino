{
 "cells": [
  {
   "cell_type": "code",
   "execution_count": 47,
   "id": "c3b86f65-6175-4e4d-ae2a-b78744883e19",
   "metadata": {},
   "outputs": [
    {
     "data": {
      "application/vnd.jupyter.widget-view+json": {
       "model_id": "",
       "version_major": 2,
       "version_minor": 0
      },
      "text/plain": [
       "FloatProgress(value=0.0, bar_style='info', description='Progress:', layout=Layout(height='25px', width='50%'),…"
      ]
     },
     "metadata": {},
     "output_type": "display_data"
    }
   ],
   "source": [
    "from pyspark.sql import SQLContext\n",
    "sqlContext = SQLContext(spark)\n",
    "\n",
    "df = sqlContext.read.option(\"header\", True).csv('s3://bucket001/input/lab2/csv/sample.csv')"
   ]
  },
  {
   "cell_type": "code",
   "execution_count": 48,
   "id": "f3257564-dfdb-4d83-8dec-81ba7f715fb6",
   "metadata": {},
   "outputs": [
    {
     "data": {
      "application/vnd.jupyter.widget-view+json": {
       "model_id": "",
       "version_major": 2,
       "version_minor": 0
      },
      "text/plain": [
       "FloatProgress(value=0.0, bar_style='info', description='Progress:', layout=Layout(height='25px', width='50%'),…"
      ]
     },
     "metadata": {},
     "output_type": "display_data"
    },
    {
     "name": "stdout",
     "output_type": "stream",
     "text": [
      "root\n",
      " |-- uuid: string (nullable = true)\n",
      " |-- country: string (nullable = true)\n",
      " |-- itemtype: string (nullable = true)\n",
      " |-- saleschannel: string (nullable = true)\n",
      " |-- orderpriority: string (nullable = true)\n",
      " |-- orderdate: string (nullable = true)\n",
      " |-- region: string (nullable = true)\n",
      " |-- shipdate: string (nullable = true)\n",
      " |-- unitssold: string (nullable = true)\n",
      " |-- unitprice: string (nullable = true)\n",
      " |-- unitcost: string (nullable = true)\n",
      " |-- totalrevenue: string (nullable = true)\n",
      " |-- totalcost: string (nullable = true)\n",
      " |-- totalprofit: string (nullable = true)"
     ]
    }
   ],
   "source": [
    "df.printSchema()"
   ]
  },
  {
   "cell_type": "code",
   "execution_count": 49,
   "id": "d2fb9fef-d8d5-4773-b786-ece73ffc8e1a",
   "metadata": {},
   "outputs": [
    {
     "data": {
      "application/vnd.jupyter.widget-view+json": {
       "model_id": "",
       "version_major": 2,
       "version_minor": 0
      },
      "text/plain": [
       "FloatProgress(value=0.0, bar_style='info', description='Progress:', layout=Layout(height='25px', width='50%'),…"
      ]
     },
     "metadata": {},
     "output_type": "display_data"
    },
    {
     "name": "stdout",
     "output_type": "stream",
     "text": [
      "Row(uuid='535113847', country='Azerbaijan', itemtype='Snacks', saleschannel='Online', orderpriority='C', orderdate='10/8/14', region='Middle East and North Africa', shipdate='10/23/14', unitssold='934', unitprice='152.58', unitcost='97.44', totalrevenue='142509.72', totalcost='91008.96', totalprofit='51500.76')"
     ]
    }
   ],
   "source": [
    "df.head()"
   ]
  },
  {
   "cell_type": "code",
   "execution_count": 50,
   "id": "4850828c-ef41-45a7-8efb-ae549262e4d1",
   "metadata": {},
   "outputs": [
    {
     "data": {
      "application/vnd.jupyter.widget-view+json": {
       "model_id": "",
       "version_major": 2,
       "version_minor": 0
      },
      "text/plain": [
       "FloatProgress(value=0.0, bar_style='info', description='Progress:', layout=Layout(height='25px', width='50%'),…"
      ]
     },
     "metadata": {},
     "output_type": "display_data"
    },
    {
     "name": "stdout",
     "output_type": "stream",
     "text": [
      "root\n",
      " |-- uuid: long (nullable = true)\n",
      " |-- country: string (nullable = true)\n",
      " |-- itemtype: string (nullable = true)\n",
      " |-- saleschannel: string (nullable = true)\n",
      " |-- orderpriority: string (nullable = true)\n",
      " |-- orderdate: string (nullable = true)\n",
      " |-- region: string (nullable = true)\n",
      " |-- shipdate: string (nullable = true)\n",
      " |-- unitssold: long (nullable = true)\n",
      " |-- unitprice: double (nullable = true)\n",
      " |-- unitcost: double (nullable = true)\n",
      " |-- totalrevenue: double (nullable = true)\n",
      " |-- totalcost: double (nullable = true)\n",
      " |-- totalprofit: double (nullable = true)"
     ]
    }
   ],
   "source": [
    "df_schema_fix = df.select(\n",
    "    df.uuid.cast('bigint'),\n",
    "    df.country,\n",
    "    df.itemtype,\n",
    "    df.saleschannel,\n",
    "    df.orderpriority,\n",
    "    df.orderdate,\n",
    "    df.region,\n",
    "    df.shipdate,\n",
    "    df.unitssold.cast('bigint'),\n",
    "    df.unitprice.cast('double'),\n",
    "    df.unitcost.cast('double'),\n",
    "    df.totalrevenue.cast('double'),\n",
    "    df.totalcost.cast('double'),\n",
    "    df.totalprofit.cast('double')\n",
    ")"
   ]
  },
  {
   "cell_type": "code",
   "execution_count": 51,
   "id": "c13ac95b-8d3d-4ee5-876a-f4adf480d3e7",
   "metadata": {},
   "outputs": [
    {
     "data": {
      "application/vnd.jupyter.widget-view+json": {
       "model_id": "",
       "version_major": 2,
       "version_minor": 0
      },
      "text/plain": [
       "FloatProgress(value=0.0, bar_style='info', description='Progress:', layout=Layout(height='25px', width='50%'),…"
      ]
     },
     "metadata": {},
     "output_type": "display_data"
    },
    {
     "name": "stdout",
     "output_type": "stream",
     "text": [
      "root\n",
      " |-- uuid: long (nullable = true)\n",
      " |-- country: string (nullable = true)\n",
      " |-- itemtype: string (nullable = true)\n",
      " |-- saleschannel: string (nullable = true)\n",
      " |-- orderpriority: string (nullable = true)\n",
      " |-- orderdate: string (nullable = true)\n",
      " |-- region: string (nullable = true)\n",
      " |-- shipdate: string (nullable = true)\n",
      " |-- unitssold: long (nullable = true)\n",
      " |-- unitprice: double (nullable = true)\n",
      " |-- unitcost: double (nullable = true)\n",
      " |-- totalrevenue: double (nullable = true)\n",
      " |-- totalcost: double (nullable = true)\n",
      " |-- totalprofit: double (nullable = true)"
     ]
    }
   ],
   "source": [
    "df_schema_fix.printSchema()"
   ]
  },
  {
   "cell_type": "code",
   "execution_count": 52,
   "id": "2e44f30a-35b5-4709-90d3-aa1825f71905",
   "metadata": {},
   "outputs": [
    {
     "data": {
      "application/vnd.jupyter.widget-view+json": {
       "model_id": "",
       "version_major": 2,
       "version_minor": 0
      },
      "text/plain": [
       "FloatProgress(value=0.0, bar_style='info', description='Progress:', layout=Layout(height='25px', width='50%'),…"
      ]
     },
     "metadata": {},
     "output_type": "display_data"
    },
    {
     "name": "stdout",
     "output_type": "stream",
     "text": [
      "Row(uuid=535113847, country='Azerbaijan', itemtype='Snacks', saleschannel='Online', orderpriority='C', orderdate='10/8/14', region='Middle East and North Africa', shipdate='10/23/14', unitssold=934, unitprice=152.58, unitcost=97.44, totalrevenue=142509.72, totalcost=91008.96, totalprofit=51500.76)"
     ]
    }
   ],
   "source": [
    "df_schema_fix.head()"
   ]
  },
  {
   "cell_type": "code",
   "execution_count": 53,
   "id": "f3a7baf6-e8a2-4905-934f-3447f7ad5ff7",
   "metadata": {},
   "outputs": [
    {
     "data": {
      "application/vnd.jupyter.widget-view+json": {
       "model_id": "",
       "version_major": 2,
       "version_minor": 0
      },
      "text/plain": [
       "FloatProgress(value=0.0, bar_style='info', description='Progress:', layout=Layout(height='25px', width='50%'),…"
      ]
     },
     "metadata": {},
     "output_type": "display_data"
    }
   ],
   "source": [
    "df_schema_fix.createOrReplaceTempView(\"sample_temp\")"
   ]
  },
  {
   "cell_type": "code",
   "execution_count": 54,
   "id": "1204127a-b39c-4ca4-97e8-9ce334820764",
   "metadata": {},
   "outputs": [
    {
     "data": {
      "application/vnd.jupyter.widget-view+json": {
       "model_id": "",
       "version_major": 2,
       "version_minor": 0
      },
      "text/plain": [
       "FloatProgress(value=0.0, bar_style='info', description='Progress:', layout=Layout(height='25px', width='50%'),…"
      ]
     },
     "metadata": {},
     "output_type": "display_data"
    },
    {
     "name": "stdout",
     "output_type": "stream",
     "text": [
      "Row(uuid=535113847, country='Azerbaijan', itemtype='Snacks', saleschannel='Online', orderpriority='C', orderdate='10/8/14', region='Middle East and North Africa', shipdate='10/23/14', unitssold=934, unitprice=152.58, unitcost=97.44, totalrevenue=142509.72, totalcost=91008.96, totalprofit=51500.76)"
     ]
    }
   ],
   "source": [
    "sqlContext.sql(\"SELECT * FROM sample_temp\").head()"
   ]
  },
  {
   "cell_type": "code",
   "execution_count": 55,
   "id": "2e151fe9-bd2b-4258-9c61-513308e0ad24",
   "metadata": {},
   "outputs": [
    {
     "data": {
      "application/vnd.jupyter.widget-view+json": {
       "model_id": "",
       "version_major": 2,
       "version_minor": 0
      },
      "text/plain": [
       "FloatProgress(value=0.0, bar_style='info', description='Progress:', layout=Layout(height='25px', width='50%'),…"
      ]
     },
     "metadata": {},
     "output_type": "display_data"
    },
    {
     "data": {
      "application/vnd.jupyter.widget-view+json": {
       "model_id": "1daa464c37804565a0eede8197df2389",
       "version_major": 2,
       "version_minor": 0
      },
      "text/plain": [
       "VBox(children=(HBox(), EncodingWidget(children=(VBox(children=(HTML(value='Encoding:'), Dropdown(description='…"
      ]
     },
     "metadata": {},
     "output_type": "display_data"
    },
    {
     "data": {
      "application/vnd.jupyter.widget-view+json": {
       "model_id": "b9bfb9b6893d4ebfb1006552c2ebbd47",
       "version_major": 2,
       "version_minor": 0
      },
      "text/plain": [
       "Output()"
      ]
     },
     "metadata": {},
     "output_type": "display_data"
    }
   ],
   "source": [
    "%%sql\n",
    "\n",
    "CREATE DATABASE IF NOT EXISTS spark_glueworkshop\n",
    "LOCATION 's3a://bucket001/'"
   ]
  },
  {
   "cell_type": "code",
   "execution_count": 56,
   "id": "c24463f2-013e-4921-a010-7e8f3e3a6ca8",
   "metadata": {},
   "outputs": [
    {
     "data": {
      "application/vnd.jupyter.widget-view+json": {
       "model_id": "",
       "version_major": 2,
       "version_minor": 0
      },
      "text/plain": [
       "FloatProgress(value=0.0, bar_style='info', description='Progress:', layout=Layout(height='25px', width='50%'),…"
      ]
     },
     "metadata": {},
     "output_type": "display_data"
    },
    {
     "data": {
      "application/vnd.jupyter.widget-view+json": {
       "model_id": "790bc84c266b4d108baf78a51aed924c",
       "version_major": 2,
       "version_minor": 0
      },
      "text/plain": [
       "VBox(children=(HBox(), EncodingWidget(children=(VBox(children=(HTML(value='Encoding:'), Dropdown(description='…"
      ]
     },
     "metadata": {},
     "output_type": "display_data"
    },
    {
     "data": {
      "application/vnd.jupyter.widget-view+json": {
       "model_id": "d2a2202610ac4606b99be1b9281bdf89",
       "version_major": 2,
       "version_minor": 0
      },
      "text/plain": [
       "Output()"
      ]
     },
     "metadata": {},
     "output_type": "display_data"
    }
   ],
   "source": [
    "%%sql\n",
    "\n",
    "DROP TABLE spark_glueworkshop.spark_csv_lab2"
   ]
  },
  {
   "cell_type": "code",
   "execution_count": 57,
   "id": "785b4c77-2c5c-4a5d-9070-90568ccf1bdd",
   "metadata": {},
   "outputs": [
    {
     "data": {
      "application/vnd.jupyter.widget-view+json": {
       "model_id": "",
       "version_major": 2,
       "version_minor": 0
      },
      "text/plain": [
       "FloatProgress(value=0.0, bar_style='info', description='Progress:', layout=Layout(height='25px', width='50%'),…"
      ]
     },
     "metadata": {},
     "output_type": "display_data"
    },
    {
     "data": {
      "application/vnd.jupyter.widget-view+json": {
       "model_id": "a30bdee723c64a84b9b14c955ef49d98",
       "version_major": 2,
       "version_minor": 0
      },
      "text/plain": [
       "VBox(children=(HBox(), EncodingWidget(children=(VBox(children=(HTML(value='Encoding:'), Dropdown(description='…"
      ]
     },
     "metadata": {},
     "output_type": "display_data"
    },
    {
     "data": {
      "application/vnd.jupyter.widget-view+json": {
       "model_id": "b04de999a18748ddb6db58e6957a2579",
       "version_major": 2,
       "version_minor": 0
      },
      "text/plain": [
       "Output()"
      ]
     },
     "metadata": {},
     "output_type": "display_data"
    }
   ],
   "source": [
    "%%sql\n",
    "\n",
    "CREATE TABLE IF NOT EXISTS spark_glueworkshop.spark_csv_lab2 LIKE sample_temp\n",
    "USING CSV\n",
    "LOCATION 's3://bucket001/input/lab2/csv/'"
   ]
  },
  {
   "cell_type": "code",
   "execution_count": 58,
   "id": "24574e50-6d46-4996-a596-d040fe62fd1e",
   "metadata": {},
   "outputs": [
    {
     "data": {
      "application/vnd.jupyter.widget-view+json": {
       "model_id": "",
       "version_major": 2,
       "version_minor": 0
      },
      "text/plain": [
       "FloatProgress(value=0.0, bar_style='info', description='Progress:', layout=Layout(height='25px', width='50%'),…"
      ]
     },
     "metadata": {},
     "output_type": "display_data"
    },
    {
     "data": {
      "application/vnd.jupyter.widget-view+json": {
       "model_id": "71b9af8eeba447bdaf5a59efd2d8398d",
       "version_major": 2,
       "version_minor": 0
      },
      "text/plain": [
       "VBox(children=(HBox(children=(HTML(value='Type:'), Button(description='Table', layout=Layout(width='70px'), st…"
      ]
     },
     "metadata": {},
     "output_type": "display_data"
    },
    {
     "data": {
      "application/vnd.jupyter.widget-view+json": {
       "model_id": "84663a6ba41043279904509a2af72716",
       "version_major": 2,
       "version_minor": 0
      },
      "text/plain": [
       "Output()"
      ]
     },
     "metadata": {},
     "output_type": "display_data"
    }
   ],
   "source": [
    "%%sql\n",
    "\n",
    "DESCRIBE TABLE EXTENDED spark_glueworkshop.spark_csv_lab2"
   ]
  },
  {
   "cell_type": "code",
   "execution_count": 60,
   "id": "689a123b-d1bf-4943-a45c-6db5f815e70c",
   "metadata": {},
   "outputs": [
    {
     "data": {
      "application/vnd.jupyter.widget-view+json": {
       "model_id": "",
       "version_major": 2,
       "version_minor": 0
      },
      "text/plain": [
       "FloatProgress(value=0.0, bar_style='info', description='Progress:', layout=Layout(height='25px', width='50%'),…"
      ]
     },
     "metadata": {},
     "output_type": "display_data"
    },
    {
     "data": {
      "application/vnd.jupyter.widget-view+json": {
       "model_id": "ee3c73d1782d4f36a38e795d6fed56bc",
       "version_major": 2,
       "version_minor": 0
      },
      "text/plain": [
       "VBox(children=(HBox(children=(HTML(value='Type:'), Button(description='Table', layout=Layout(width='70px'), st…"
      ]
     },
     "metadata": {},
     "output_type": "display_data"
    },
    {
     "data": {
      "application/vnd.jupyter.widget-view+json": {
       "model_id": "f51f973683e743b5b9ff3406b20fe6d2",
       "version_major": 2,
       "version_minor": 0
      },
      "text/plain": [
       "Output()"
      ]
     },
     "metadata": {},
     "output_type": "display_data"
    }
   ],
   "source": [
    "%%sql\n",
    "\n",
    "SELECT * FROM spark_glueworkshop.spark_csv_lab2 limit 10"
   ]
  }
 ],
 "metadata": {
  "kernelspec": {
   "display_name": "PySpark",
   "language": "python",
   "name": "pysparkkernel"
  },
  "language_info": {
   "codemirror_mode": {
    "name": "python",
    "version": 3
   },
   "file_extension": ".py",
   "mimetype": "text/x-python",
   "name": "pyspark",
   "pygments_lexer": "python3"
  }
 },
 "nbformat": 4,
 "nbformat_minor": 5
}

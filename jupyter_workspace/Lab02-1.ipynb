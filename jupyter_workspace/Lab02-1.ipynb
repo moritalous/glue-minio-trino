{
 "cells": [
  {
   "cell_type": "markdown",
   "id": "7dbb73a3-33f7-4fb5-b2ab-d02218c92921",
   "metadata": {},
   "source": [
    "# Spark RDD\n",
    "https://catalog.us-east-1.prod.workshops.aws/workshops/ee59d21b-4cb8-4b3d-a629-24537cf37bb5/en-US/lab2/rdd"
   ]
  },
  {
   "cell_type": "code",
   "execution_count": 1,
   "id": "70c00727-83b0-4a8d-8af7-b317015b415b",
   "metadata": {},
   "outputs": [
    {
     "name": "stdout",
     "output_type": "stream",
     "text": [
      "Starting Spark application\n"
     ]
    },
    {
     "data": {
      "text/html": [
       "<table>\n",
       "<tr><th>ID</th><th>YARN Application ID</th><th>Kind</th><th>State</th><th>Spark UI</th><th>Driver log</th><th>User</th><th>Current session?</th></tr><tr><td>3</td><td>None</td><td>pyspark</td><td>idle</td><td></td><td></td><td>None</td><td>✔</td></tr></table>"
      ],
      "text/plain": [
       "<IPython.core.display.HTML object>"
      ]
     },
     "metadata": {},
     "output_type": "display_data"
    },
    {
     "data": {
      "application/vnd.jupyter.widget-view+json": {
       "model_id": "",
       "version_major": 2,
       "version_minor": 0
      },
      "text/plain": [
       "FloatProgress(value=0.0, bar_style='info', description='Progress:', layout=Layout(height='25px', width='50%'),…"
      ]
     },
     "metadata": {},
     "output_type": "display_data"
    },
    {
     "name": "stdout",
     "output_type": "stream",
     "text": [
      "SparkSession available as 'spark'.\n"
     ]
    },
    {
     "data": {
      "application/vnd.jupyter.widget-view+json": {
       "model_id": "",
       "version_major": 2,
       "version_minor": 0
      },
      "text/plain": [
       "FloatProgress(value=0.0, bar_style='info', description='Progress:', layout=Layout(height='25px', width='50%'),…"
      ]
     },
     "metadata": {},
     "output_type": "display_data"
    },
    {
     "name": "stdout",
     "output_type": "stream",
     "text": [
      "<pyspark.sql.session.SparkSession object at 0x7fea419d49d0>"
     ]
    }
   ],
   "source": [
    "spark"
   ]
  },
  {
   "cell_type": "markdown",
   "id": "1f00289b-2eba-43ed-b5bf-730724ad89a2",
   "metadata": {},
   "source": [
    "## # 外部データセットを使用して RDD を作成する\n"
   ]
  },
  {
   "cell_type": "code",
   "execution_count": 2,
   "id": "44913b25-d29d-40ca-b7b9-9cdb08b815f3",
   "metadata": {},
   "outputs": [
    {
     "data": {
      "application/vnd.jupyter.widget-view+json": {
       "model_id": "",
       "version_major": 2,
       "version_minor": 0
      },
      "text/plain": [
       "FloatProgress(value=0.0, bar_style='info', description='Progress:', layout=Layout(height='25px', width='50%'),…"
      ]
     },
     "metadata": {},
     "output_type": "display_data"
    }
   ],
   "source": [
    "rdd = spark.sparkContext.textFile('s3://bucket001/input/lab2/sample.csv')"
   ]
  },
  {
   "cell_type": "code",
   "execution_count": 3,
   "id": "ea5feb9c-3a3e-47bd-8ae2-41c78ce52862",
   "metadata": {},
   "outputs": [
    {
     "data": {
      "application/vnd.jupyter.widget-view+json": {
       "model_id": "",
       "version_major": 2,
       "version_minor": 0
      },
      "text/plain": [
       "FloatProgress(value=0.0, bar_style='info', description='Progress:', layout=Layout(height='25px', width='50%'),…"
      ]
     },
     "metadata": {},
     "output_type": "display_data"
    },
    {
     "name": "stdout",
     "output_type": "stream",
     "text": [
      "<class 'pyspark.rdd.RDD'>"
     ]
    }
   ],
   "source": [
    "type(rdd)"
   ]
  },
  {
   "cell_type": "code",
   "execution_count": 4,
   "id": "f0d5777f-4c88-4041-b6a9-d670b6f274dd",
   "metadata": {},
   "outputs": [
    {
     "data": {
      "application/vnd.jupyter.widget-view+json": {
       "model_id": "",
       "version_major": 2,
       "version_minor": 0
      },
      "text/plain": [
       "FloatProgress(value=0.0, bar_style='info', description='Progress:', layout=Layout(height='25px', width='50%'),…"
      ]
     },
     "metadata": {},
     "output_type": "display_data"
    },
    {
     "name": "stdout",
     "output_type": "stream",
     "text": [
      "'uuid,country,itemtype,saleschannel,orderpriority,orderdate,region,shipdate,unitssold,unitprice,unitcost,totalrevenue,totalcost,totalprofit'"
     ]
    }
   ],
   "source": [
    "rdd.first()"
   ]
  },
  {
   "cell_type": "code",
   "execution_count": 5,
   "id": "406ba61e-2dd1-41b5-b3ed-d47f4218c21c",
   "metadata": {},
   "outputs": [
    {
     "data": {
      "application/vnd.jupyter.widget-view+json": {
       "model_id": "",
       "version_major": 2,
       "version_minor": 0
      },
      "text/plain": [
       "FloatProgress(value=0.0, bar_style='info', description='Progress:', layout=Layout(height='25px', width='50%'),…"
      ]
     },
     "metadata": {},
     "output_type": "display_data"
    }
   ],
   "source": [
    "rddheader = rdd.first()\n",
    "\n",
    "rddwithoutheader = rdd.filter(lambda c: c != rddheader)"
   ]
  },
  {
   "cell_type": "code",
   "execution_count": 6,
   "id": "9ce075d7-b637-401b-bd0f-b8558e896f98",
   "metadata": {},
   "outputs": [
    {
     "data": {
      "application/vnd.jupyter.widget-view+json": {
       "model_id": "",
       "version_major": 2,
       "version_minor": 0
      },
      "text/plain": [
       "FloatProgress(value=0.0, bar_style='info', description='Progress:', layout=Layout(height='25px', width='50%'),…"
      ]
     },
     "metadata": {},
     "output_type": "display_data"
    },
    {
     "name": "stdout",
     "output_type": "stream",
     "text": [
      "<class 'str'>"
     ]
    }
   ],
   "source": [
    "type(rddwithoutheader.first())"
   ]
  },
  {
   "cell_type": "markdown",
   "id": "0ed9e1aa-3281-4b36-9e12-d4f5b0f071be",
   "metadata": {},
   "source": [
    "## ステップ 1 - 文字列をリストに変換する"
   ]
  },
  {
   "cell_type": "code",
   "execution_count": 7,
   "id": "60b828b6-ccdb-4b0e-94a6-8a427cf14d99",
   "metadata": {},
   "outputs": [
    {
     "data": {
      "application/vnd.jupyter.widget-view+json": {
       "model_id": "",
       "version_major": 2,
       "version_minor": 0
      },
      "text/plain": [
       "FloatProgress(value=0.0, bar_style='info', description='Progress:', layout=Layout(height='25px', width='50%'),…"
      ]
     },
     "metadata": {},
     "output_type": "display_data"
    },
    {
     "name": "stdout",
     "output_type": "stream",
     "text": [
      "<class 'str'>"
     ]
    }
   ],
   "source": [
    "# reading first record form rdd after removing header\n",
    "s = rddwithoutheader.first()\n",
    "\n",
    "# checkig type\n",
    "type(s)"
   ]
  },
  {
   "cell_type": "code",
   "execution_count": 8,
   "id": "14e2dbce-6566-4549-9c8e-2a7ba3f48ac2",
   "metadata": {},
   "outputs": [
    {
     "data": {
      "application/vnd.jupyter.widget-view+json": {
       "model_id": "",
       "version_major": 2,
       "version_minor": 0
      },
      "text/plain": [
       "FloatProgress(value=0.0, bar_style='info', description='Progress:', layout=Layout(height='25px', width='50%'),…"
      ]
     },
     "metadata": {},
     "output_type": "display_data"
    },
    {
     "name": "stdout",
     "output_type": "stream",
     "text": [
      "535113847,Azerbaijan,Snacks,Online,C,10/8/14,Middle East and North Africa,10/23/14,934,152.58,97.44,142509.72,91008.96,51500.76"
     ]
    }
   ],
   "source": [
    "# printing value of s\n",
    "print(s)"
   ]
  },
  {
   "cell_type": "code",
   "execution_count": 9,
   "id": "ffccd0fb-c52a-4b69-8aa0-d8404fd97aca",
   "metadata": {},
   "outputs": [
    {
     "data": {
      "application/vnd.jupyter.widget-view+json": {
       "model_id": "",
       "version_major": 2,
       "version_minor": 0
      },
      "text/plain": [
       "FloatProgress(value=0.0, bar_style='info', description='Progress:', layout=Layout(height='25px', width='50%'),…"
      ]
     },
     "metadata": {},
     "output_type": "display_data"
    },
    {
     "name": "stdout",
     "output_type": "stream",
     "text": [
      "<class 'list'>"
     ]
    }
   ],
   "source": [
    "# converting string into list\n",
    "sl = s.split(',')\n",
    "\n",
    "# checking type\n",
    "type(sl)"
   ]
  },
  {
   "cell_type": "code",
   "execution_count": 10,
   "id": "8617b2f0-cf20-4b3b-acd3-db765fb53be2",
   "metadata": {},
   "outputs": [
    {
     "data": {
      "application/vnd.jupyter.widget-view+json": {
       "model_id": "",
       "version_major": 2,
       "version_minor": 0
      },
      "text/plain": [
       "FloatProgress(value=0.0, bar_style='info', description='Progress:', layout=Layout(height='25px', width='50%'),…"
      ]
     },
     "metadata": {},
     "output_type": "display_data"
    },
    {
     "name": "stdout",
     "output_type": "stream",
     "text": [
      "535113847\n",
      "Azerbaijan\n",
      "Snacks\n",
      "Online\n",
      "C\n",
      "10/8/14\n",
      "Middle East and North Africa\n",
      "10/23/14\n",
      "934\n",
      "152.58\n",
      "97.44\n",
      "142509.72\n",
      "91008.96\n",
      "51500.76"
     ]
    }
   ],
   "source": [
    "# printing list\n",
    "for i in sl[0:len(sl)]:\n",
    "    print(i)"
   ]
  },
  {
   "cell_type": "markdown",
   "id": "e4391d62-4d4c-4325-aea9-308be7255133",
   "metadata": {},
   "source": [
    "## ステップ 2 - 異なる国を見つける"
   ]
  },
  {
   "cell_type": "code",
   "execution_count": 11,
   "id": "ffa431a0-c547-4f74-83c9-1cc009a25eea",
   "metadata": {},
   "outputs": [
    {
     "data": {
      "application/vnd.jupyter.widget-view+json": {
       "model_id": "",
       "version_major": 2,
       "version_minor": 0
      },
      "text/plain": [
       "FloatProgress(value=0.0, bar_style='info', description='Progress:', layout=Layout(height='25px', width='50%'),…"
      ]
     },
     "metadata": {},
     "output_type": "display_data"
    },
    {
     "name": "stdout",
     "output_type": "stream",
     "text": [
      "'Azerbaijan'"
     ]
    }
   ],
   "source": [
    "sl[1]"
   ]
  },
  {
   "cell_type": "code",
   "execution_count": 12,
   "id": "9eecfdc7-6e90-495e-a9f4-e8d6a339784a",
   "metadata": {},
   "outputs": [
    {
     "data": {
      "application/vnd.jupyter.widget-view+json": {
       "model_id": "",
       "version_major": 2,
       "version_minor": 0
      },
      "text/plain": [
       "FloatProgress(value=0.0, bar_style='info', description='Progress:', layout=Layout(height='25px', width='50%'),…"
      ]
     },
     "metadata": {},
     "output_type": "display_data"
    }
   ],
   "source": [
    "rddcountry = rddwithoutheader.map(lambda r : r.split(',')[1]).distinct()"
   ]
  },
  {
   "cell_type": "code",
   "execution_count": 13,
   "id": "a5e56e62-2c79-4f52-ad64-34e0ccc6b3f2",
   "metadata": {},
   "outputs": [
    {
     "data": {
      "application/vnd.jupyter.widget-view+json": {
       "model_id": "",
       "version_major": 2,
       "version_minor": 0
      },
      "text/plain": [
       "FloatProgress(value=0.0, bar_style='info', description='Progress:', layout=Layout(height='25px', width='50%'),…"
      ]
     },
     "metadata": {},
     "output_type": "display_data"
    },
    {
     "name": "stdout",
     "output_type": "stream",
     "text": [
      "185"
     ]
    }
   ],
   "source": [
    "rddcountry.count()"
   ]
  },
  {
   "cell_type": "code",
   "execution_count": 14,
   "id": "e4176b9f-e88d-4d45-a1c2-710f952d79bf",
   "metadata": {},
   "outputs": [
    {
     "data": {
      "application/vnd.jupyter.widget-view+json": {
       "model_id": "",
       "version_major": 2,
       "version_minor": 0
      },
      "text/plain": [
       "FloatProgress(value=0.0, bar_style='info', description='Progress:', layout=Layout(height='25px', width='50%'),…"
      ]
     },
     "metadata": {},
     "output_type": "display_data"
    },
    {
     "name": "stdout",
     "output_type": "stream",
     "text": [
      "Azerbaijan\n",
      "Panama\n",
      "Sao Tome and Principe\n",
      "Belize\n",
      "Denmark\n",
      "Germany\n",
      "Turkey\n",
      "United Kingdom\n",
      "Kazakhstan\n",
      "Haiti"
     ]
    }
   ],
   "source": [
    "for i in rddcountry.take(10):\n",
    "    print(i)"
   ]
  },
  {
   "cell_type": "markdown",
   "id": "11517990-7c91-4367-992b-1c3e214cd4fb",
   "metadata": {},
   "source": [
    "## ステップ 3 - 国が英国であるすべてのレコードをフィルター処理する"
   ]
  },
  {
   "cell_type": "code",
   "execution_count": 15,
   "id": "508d6d87-49fb-4e83-b52f-c45b107ee5d8",
   "metadata": {},
   "outputs": [
    {
     "data": {
      "application/vnd.jupyter.widget-view+json": {
       "model_id": "",
       "version_major": 2,
       "version_minor": 0
      },
      "text/plain": [
       "FloatProgress(value=0.0, bar_style='info', description='Progress:', layout=Layout(height='25px', width='50%'),…"
      ]
     },
     "metadata": {},
     "output_type": "display_data"
    }
   ],
   "source": [
    "rddcountryuk = rddwithoutheader.filter(lambda o : o.split(',')[1] in ('United Kingdom'))"
   ]
  },
  {
   "cell_type": "code",
   "execution_count": 16,
   "id": "d3ebb3db-c1c9-4348-9ea9-3b6f7a05d6cf",
   "metadata": {},
   "outputs": [
    {
     "data": {
      "application/vnd.jupyter.widget-view+json": {
       "model_id": "",
       "version_major": 2,
       "version_minor": 0
      },
      "text/plain": [
       "FloatProgress(value=0.0, bar_style='info', description='Progress:', layout=Layout(height='25px', width='50%'),…"
      ]
     },
     "metadata": {},
     "output_type": "display_data"
    },
    {
     "name": "stdout",
     "output_type": "stream",
     "text": [
      "517"
     ]
    }
   ],
   "source": [
    "rddcountryuk.count()"
   ]
  },
  {
   "cell_type": "code",
   "execution_count": 17,
   "id": "d7ce3d29-4860-4d75-9358-38fd5a6cf398",
   "metadata": {},
   "outputs": [
    {
     "data": {
      "application/vnd.jupyter.widget-view+json": {
       "model_id": "",
       "version_major": 2,
       "version_minor": 0
      },
      "text/plain": [
       "FloatProgress(value=0.0, bar_style='info', description='Progress:', layout=Layout(height='25px', width='50%'),…"
      ]
     },
     "metadata": {},
     "output_type": "display_data"
    },
    {
     "name": "stdout",
     "output_type": "stream",
     "text": [
      "847788178,United Kingdom,Snacks,Online,H,12/29/12,Europe,1/15/13,8217,152.58,97.44,1253749.86,800664.48,453085.38\n",
      "757665097,United Kingdom,Clothes,Offline,C,5/7/15,Europe,5/14/15,8794,109.28,35.84,961008.32,315176.96,645831.36\n",
      "579393041,United Kingdom,Personal Care,Offline,C,11/22/15,Europe,12/26/15,4131,81.73,56.67,337626.63,234103.77,103522.86\n",
      "228189742,United Kingdom,Office Supplies,Offline,C,2/28/10,Europe,3/17/10,5270,651.21,524.96,3431876.7,2766539.2,665337.5\n",
      "981146752,United Kingdom,Personal Care,Offline,H,6/14/14,Europe,7/20/14,1982,81.73,56.67,161988.86,112319.94,49668.92\n",
      "361647021,United Kingdom,Personal Care,Online,L,3/1/12,Europe,3/4/12,8245,81.73,56.67,673863.85,467244.15,206619.7\n",
      "136305415,United Kingdom,Personal Care,Online,L,10/13/12,Europe,11/24/12,4656,81.73,56.67,380534.88,263855.52,116679.36\n",
      "675350463,United Kingdom,Baby Food,Offline,C,1/15/17,Europe,1/23/17,65,255.28,159.42,16593.2,10362.3,6230.9\n",
      "981978023,United Kingdom,Household,Offline,C,4/3/10,Europe,4/13/10,7973,668.27,502.54,5328116.71,4006751.42,1321365.29\n",
      "530562245,United Kingdom,Cereal,Offline,C,3/26/16,Europe,4/25/16,4014,205.7,117.11,825679.8,470079.54,355600.26"
     ]
    }
   ],
   "source": [
    "for i in rddcountryuk.take(10):\n",
    "    print(i)"
   ]
  },
  {
   "cell_type": "markdown",
   "id": "e6fd1fb7-6779-48a1-baf1-845dddfa87a5",
   "metadata": {},
   "source": [
    "## キーと値のペアの操作"
   ]
  },
  {
   "cell_type": "code",
   "execution_count": 18,
   "id": "44c7a277-12d0-484d-b000-aad4beeaa01d",
   "metadata": {},
   "outputs": [
    {
     "data": {
      "application/vnd.jupyter.widget-view+json": {
       "model_id": "",
       "version_major": 2,
       "version_minor": 0
      },
      "text/plain": [
       "FloatProgress(value=0.0, bar_style='info', description='Progress:', layout=Layout(height='25px', width='50%'),…"
      ]
     },
     "metadata": {},
     "output_type": "display_data"
    }
   ],
   "source": [
    "## convert RDD into KeyValue table; here we have indexed \"Item Type\" and assign 1 to each \"Item Type\"; \n",
    "## this will help us to count each \"Item Type\"\n",
    "\n",
    "rddcountryukkv = rddcountryuk.map(lambda r : (r.split(',')[2],1))"
   ]
  },
  {
   "cell_type": "code",
   "execution_count": 19,
   "id": "a363ba1e-1cee-42cf-b2a5-86ba8f955ccc",
   "metadata": {},
   "outputs": [
    {
     "data": {
      "application/vnd.jupyter.widget-view+json": {
       "model_id": "",
       "version_major": 2,
       "version_minor": 0
      },
      "text/plain": [
       "FloatProgress(value=0.0, bar_style='info', description='Progress:', layout=Layout(height='25px', width='50%'),…"
      ]
     },
     "metadata": {},
     "output_type": "display_data"
    },
    {
     "name": "stdout",
     "output_type": "stream",
     "text": [
      "[('Snacks', 1), ('Clothes', 1), ('Personal Care', 1), ('Office Supplies', 1), ('Personal Care', 1), ('Personal Care', 1), ('Personal Care', 1), ('Baby Food', 1), ('Household', 1), ('Cereal', 1)]"
     ]
    }
   ],
   "source": [
    "# list 10 item_type \n",
    "rddcountryukkv.take(10)"
   ]
  },
  {
   "cell_type": "code",
   "execution_count": 20,
   "id": "6fe3a26a-6b4c-488a-9249-2fd18b40a4ca",
   "metadata": {},
   "outputs": [
    {
     "data": {
      "application/vnd.jupyter.widget-view+json": {
       "model_id": "",
       "version_major": 2,
       "version_minor": 0
      },
      "text/plain": [
       "FloatProgress(value=0.0, bar_style='info', description='Progress:', layout=Layout(height='25px', width='50%'),…"
      ]
     },
     "metadata": {},
     "output_type": "display_data"
    }
   ],
   "source": [
    "## count the total \"Item Type\" by using reduceByKey\n",
    "\n",
    "rddcountryukkvrkey = rddcountryukkv.reduceByKey(lambda a, b: a + b)"
   ]
  },
  {
   "cell_type": "code",
   "execution_count": 21,
   "id": "db304ffd-e1c2-41eb-8f95-fd2774419d6e",
   "metadata": {},
   "outputs": [
    {
     "data": {
      "application/vnd.jupyter.widget-view+json": {
       "model_id": "",
       "version_major": 2,
       "version_minor": 0
      },
      "text/plain": [
       "FloatProgress(value=0.0, bar_style='info', description='Progress:', layout=Layout(height='25px', width='50%'),…"
      ]
     },
     "metadata": {},
     "output_type": "display_data"
    },
    {
     "name": "stdout",
     "output_type": "stream",
     "text": [
      "('Snacks', 44)\n",
      "('Clothes', 46)\n",
      "('Personal Care', 46)\n",
      "('Office Supplies', 41)\n",
      "('Baby Food', 39)\n",
      "('Household', 46)\n",
      "('Cereal', 39)\n",
      "('Beverages', 48)\n",
      "('Cosmetics', 45)\n",
      "('Meat', 41)\n",
      "('Vegetables', 42)\n",
      "('Fruits', 40)"
     ]
    }
   ],
   "source": [
    "## print item_type with count\n",
    "\n",
    "for i in rddcountryukkvrkey.take(20):\n",
    "    print(i)"
   ]
  },
  {
   "cell_type": "markdown",
   "id": "5e21071c-1eb5-42f9-b0ec-65c0d9566364",
   "metadata": {},
   "source": [
    "## Spark RDD の値のソート"
   ]
  },
  {
   "cell_type": "code",
   "execution_count": 22,
   "id": "d9fcc26e-7957-415a-8552-757378f70e2b",
   "metadata": {},
   "outputs": [
    {
     "data": {
      "application/vnd.jupyter.widget-view+json": {
       "model_id": "",
       "version_major": 2,
       "version_minor": 0
      },
      "text/plain": [
       "FloatProgress(value=0.0, bar_style='info', description='Progress:', layout=Layout(height='25px', width='50%'),…"
      ]
     },
     "metadata": {},
     "output_type": "display_data"
    }
   ],
   "source": [
    "## sorting the Item_Type with count; In Spark RDD you can use sortByKey to perform the sort\n",
    "\n",
    "rddcountryukkvrkeysort = rddcountryukkvrkey.sortByKey()"
   ]
  },
  {
   "cell_type": "code",
   "execution_count": 23,
   "id": "05cb5a70-afa0-4954-b6a5-a13aaf497ac3",
   "metadata": {},
   "outputs": [
    {
     "data": {
      "application/vnd.jupyter.widget-view+json": {
       "model_id": "",
       "version_major": 2,
       "version_minor": 0
      },
      "text/plain": [
       "FloatProgress(value=0.0, bar_style='info', description='Progress:', layout=Layout(height='25px', width='50%'),…"
      ]
     },
     "metadata": {},
     "output_type": "display_data"
    },
    {
     "name": "stdout",
     "output_type": "stream",
     "text": [
      "('Baby Food', 39)\n",
      "('Beverages', 48)\n",
      "('Cereal', 39)\n",
      "('Clothes', 46)\n",
      "('Cosmetics', 45)\n",
      "('Fruits', 40)\n",
      "('Household', 46)\n",
      "('Meat', 41)\n",
      "('Office Supplies', 41)\n",
      "('Personal Care', 46)"
     ]
    }
   ],
   "source": [
    "for i in rddcountryukkvrkeysort.take(10):\n",
    "    print(i)"
   ]
  },
  {
   "cell_type": "code",
   "execution_count": 24,
   "id": "c2cd257e-f5b6-4a7f-95cd-db7737339438",
   "metadata": {},
   "outputs": [
    {
     "data": {
      "application/vnd.jupyter.widget-view+json": {
       "model_id": "",
       "version_major": 2,
       "version_minor": 0
      },
      "text/plain": [
       "FloatProgress(value=0.0, bar_style='info', description='Progress:', layout=Layout(height='25px', width='50%'),…"
      ]
     },
     "metadata": {},
     "output_type": "display_data"
    }
   ],
   "source": [
    "# if you see the previous output; it performed the sorting but on Item_Type \n",
    "# not on count; it is because sortByKey perform the sorting on Key instead of\n",
    "# Value i.e. why now we need to perform one transform change the key value pair\n",
    "\n",
    "rddcountryukkvrkey = rddcountryukkvrkey.map(lambda o : (o[1],o[0]))"
   ]
  },
  {
   "cell_type": "code",
   "execution_count": 25,
   "id": "29e568aa-107d-4110-8dd9-23373688c6dd",
   "metadata": {},
   "outputs": [
    {
     "data": {
      "application/vnd.jupyter.widget-view+json": {
       "model_id": "",
       "version_major": 2,
       "version_minor": 0
      },
      "text/plain": [
       "FloatProgress(value=0.0, bar_style='info', description='Progress:', layout=Layout(height='25px', width='50%'),…"
      ]
     },
     "metadata": {},
     "output_type": "display_data"
    },
    {
     "name": "stdout",
     "output_type": "stream",
     "text": [
      "[(44, 'Snacks'), (46, 'Clothes'), (46, 'Personal Care'), (41, 'Office Supplies'), (39, 'Baby Food'), (46, 'Household'), (39, 'Cereal'), (48, 'Beverages'), (45, 'Cosmetics'), (41, 'Meat')]"
     ]
    }
   ],
   "source": [
    "rddcountryukkvrkey.take(10)"
   ]
  },
  {
   "cell_type": "code",
   "execution_count": 26,
   "id": "059522b1-b760-4875-9c86-d8d0cdf3f127",
   "metadata": {},
   "outputs": [
    {
     "data": {
      "application/vnd.jupyter.widget-view+json": {
       "model_id": "",
       "version_major": 2,
       "version_minor": 0
      },
      "text/plain": [
       "FloatProgress(value=0.0, bar_style='info', description='Progress:', layout=Layout(height='25px', width='50%'),…"
      ]
     },
     "metadata": {},
     "output_type": "display_data"
    }
   ],
   "source": [
    "## Now let's perform the sorting \n",
    "rddcountryukkvrkeysort = rddcountryukkvrkey.sortByKey(False)"
   ]
  },
  {
   "cell_type": "code",
   "execution_count": 27,
   "id": "4c5ea026-c808-4b0c-b133-0abbecd7bccc",
   "metadata": {},
   "outputs": [
    {
     "data": {
      "application/vnd.jupyter.widget-view+json": {
       "model_id": "",
       "version_major": 2,
       "version_minor": 0
      },
      "text/plain": [
       "FloatProgress(value=0.0, bar_style='info', description='Progress:', layout=Layout(height='25px', width='50%'),…"
      ]
     },
     "metadata": {},
     "output_type": "display_data"
    },
    {
     "name": "stdout",
     "output_type": "stream",
     "text": [
      "(48, 'Beverages')\n",
      "(46, 'Clothes')\n",
      "(46, 'Personal Care')\n",
      "(46, 'Household')\n",
      "(45, 'Cosmetics')\n",
      "(44, 'Snacks')\n",
      "(42, 'Vegetables')\n",
      "(41, 'Office Supplies')\n",
      "(41, 'Meat')\n",
      "(40, 'Fruits')"
     ]
    }
   ],
   "source": [
    "for i in rddcountryukkvrkeysort.take(10):\n",
    "    print(i)"
   ]
  },
  {
   "cell_type": "markdown",
   "id": "4c9c522e-8430-4b76-aae2-fefac805ce54",
   "metadata": {},
   "source": [
    "## データを S3 に保存する"
   ]
  },
  {
   "cell_type": "code",
   "execution_count": 28,
   "id": "24ffbe54-e1fa-421f-a74c-d4d7a70f2260",
   "metadata": {},
   "outputs": [
    {
     "data": {
      "application/vnd.jupyter.widget-view+json": {
       "model_id": "",
       "version_major": 2,
       "version_minor": 0
      },
      "text/plain": [
       "FloatProgress(value=0.0, bar_style='info', description='Progress:', layout=Layout(height='25px', width='50%'),…"
      ]
     },
     "metadata": {},
     "output_type": "display_data"
    }
   ],
   "source": [
    "## save the value to s3 as text/CSV file with Gzip compression\n",
    "\n",
    "sc._jsc.hadoopConfiguration().set(\"mapred.output.committer.class\", \"org.apache.hadoop.mapred.DirectFileOutputCommitter\")\n",
    "codec = \"org.apache.hadoop.io.compress.GzipCodec\"\n",
    "rddcountryukkvrkeysort.saveAsTextFile(\"s3://bucket001/input/lab2/result\" + \"/part-0000*\" , codec)"
   ]
  },
  {
   "cell_type": "markdown",
   "id": "9b436a33-156b-4306-84f7-635f0f422073",
   "metadata": {},
   "source": [
    "## 項目タイプごとの総収益の合計を計算します"
   ]
  },
  {
   "cell_type": "code",
   "execution_count": 29,
   "id": "b62ecf99-be54-40aa-b767-df0e927b8820",
   "metadata": {},
   "outputs": [
    {
     "data": {
      "application/vnd.jupyter.widget-view+json": {
       "model_id": "",
       "version_major": 2,
       "version_minor": 0
      },
      "text/plain": [
       "FloatProgress(value=0.0, bar_style='info', description='Progress:', layout=Layout(height='25px', width='50%'),…"
      ]
     },
     "metadata": {},
     "output_type": "display_data"
    },
    {
     "name": "stdout",
     "output_type": "stream",
     "text": [
      "('Snacks', 33305620.14)\n",
      "('Clothes', 26638202.080000002)\n",
      "('Personal Care', 19192247.249999996)\n",
      "('Office Supplies', 133824306.21)\n",
      "('Baby Food', 46536522.88000001)\n",
      "('Household', 165361406.69000003)\n",
      "('Cereal', 42633382.0)\n",
      "('Beverages', 11407217.249999998)\n",
      "('Cosmetics', 109017131.60000002)\n",
      "('Meat', 80643007.83000001)"
     ]
    }
   ],
   "source": [
    "# In this part, we are going to calculate sum of total revenue per item type\n",
    "\n",
    "# let's convert the data into key value pair to extract Item Type and Total Revenue  \n",
    "\n",
    "rddcountryukkv = rddcountryuk.map(lambda sl : (sl.split(',')[2],float(sl.split(',')[11])))\n",
    "\n",
    "# perform the sum by using reduceByKey()\n",
    "\n",
    "rddcountryukkvggregateByKey = rddcountryukkv.reduceByKey(lambda total, value : total + value )\n",
    "\n",
    "# print 10 values\n",
    "\n",
    "for i in rddcountryukkvggregateByKey.take(10):\n",
    "    print(i)"
   ]
  },
  {
   "cell_type": "markdown",
   "id": "f395e599-999f-4c12-8aa2-4675ddcbe7aa",
   "metadata": {},
   "source": [
    "## RDD からの DataFrame の変換"
   ]
  },
  {
   "cell_type": "code",
   "execution_count": 30,
   "id": "f5de4e42-2dfe-426c-a4f8-228f73d89233",
   "metadata": {},
   "outputs": [
    {
     "data": {
      "application/vnd.jupyter.widget-view+json": {
       "model_id": "",
       "version_major": 2,
       "version_minor": 0
      },
      "text/plain": [
       "FloatProgress(value=0.0, bar_style='info', description='Progress:', layout=Layout(height='25px', width='50%'),…"
      ]
     },
     "metadata": {},
     "output_type": "display_data"
    },
    {
     "name": "stdout",
     "output_type": "stream",
     "text": [
      "<class 'pyspark.rdd.PipelinedRDD'>"
     ]
    }
   ],
   "source": [
    "# run one by one\n",
    "type(rddcountryukkvggregateByKey)"
   ]
  },
  {
   "cell_type": "code",
   "execution_count": 31,
   "id": "47f3f65c-e746-4fa7-8acc-bf3685066e1a",
   "metadata": {},
   "outputs": [
    {
     "data": {
      "application/vnd.jupyter.widget-view+json": {
       "model_id": "",
       "version_major": 2,
       "version_minor": 0
      },
      "text/plain": [
       "FloatProgress(value=0.0, bar_style='info', description='Progress:', layout=Layout(height='25px', width='50%'),…"
      ]
     },
     "metadata": {},
     "output_type": "display_data"
    }
   ],
   "source": [
    "rddcountryukkvggregateByKeyDF = rddcountryukkvggregateByKey.toDF()"
   ]
  },
  {
   "cell_type": "code",
   "execution_count": 32,
   "id": "00c9607d-3fb8-4d9a-9cb1-3b6e7b38526e",
   "metadata": {},
   "outputs": [
    {
     "data": {
      "application/vnd.jupyter.widget-view+json": {
       "model_id": "",
       "version_major": 2,
       "version_minor": 0
      },
      "text/plain": [
       "FloatProgress(value=0.0, bar_style='info', description='Progress:', layout=Layout(height='25px', width='50%'),…"
      ]
     },
     "metadata": {},
     "output_type": "display_data"
    },
    {
     "name": "stdout",
     "output_type": "stream",
     "text": [
      "<class 'pyspark.sql.dataframe.DataFrame'>"
     ]
    }
   ],
   "source": [
    "type(rddcountryukkvggregateByKeyDF)"
   ]
  },
  {
   "cell_type": "code",
   "execution_count": 33,
   "id": "d49846f2-81f6-4415-be65-10ee6641b460",
   "metadata": {},
   "outputs": [
    {
     "data": {
      "application/vnd.jupyter.widget-view+json": {
       "model_id": "",
       "version_major": 2,
       "version_minor": 0
      },
      "text/plain": [
       "FloatProgress(value=0.0, bar_style='info', description='Progress:', layout=Layout(height='25px', width='50%'),…"
      ]
     },
     "metadata": {},
     "output_type": "display_data"
    },
    {
     "name": "stdout",
     "output_type": "stream",
     "text": [
      "root\n",
      " |-- _1: string (nullable = true)\n",
      " |-- _2: double (nullable = true)"
     ]
    }
   ],
   "source": [
    "rddcountryukkvggregateByKeyDF.printSchema()"
   ]
  },
  {
   "cell_type": "code",
   "execution_count": 34,
   "id": "a9a66f59-1266-4b31-a864-fbc6c9cb4b26",
   "metadata": {},
   "outputs": [
    {
     "data": {
      "application/vnd.jupyter.widget-view+json": {
       "model_id": "",
       "version_major": 2,
       "version_minor": 0
      },
      "text/plain": [
       "FloatProgress(value=0.0, bar_style='info', description='Progress:', layout=Layout(height='25px', width='50%'),…"
      ]
     },
     "metadata": {},
     "output_type": "display_data"
    },
    {
     "name": "stdout",
     "output_type": "stream",
     "text": [
      "+---------------+--------------------+\n",
      "|      Item Type|Sum of Total Revenue|\n",
      "+---------------+--------------------+\n",
      "|         Snacks|          3.330562E7|\n",
      "|        Clothes|         2.6638202E7|\n",
      "|  Personal Care|         1.9192248E7|\n",
      "|Office Supplies|        1.33824304E8|\n",
      "|      Baby Food|         4.6536524E7|\n",
      "|      Household|        1.65361408E8|\n",
      "|         Cereal|         4.2633384E7|\n",
      "|      Beverages|         1.1407217E7|\n",
      "|      Cosmetics|        1.09017128E8|\n",
      "|           Meat|         8.0643008E7|\n",
      "|     Vegetables|         3.2463986E7|\n",
      "|         Fruits|           1491064.6|\n",
      "+---------------+--------------------+"
     ]
    }
   ],
   "source": [
    "# Create a schema for the dataframe\n",
    "\n",
    "from pyspark.sql.types import StructField, StructType, StringType, IntegerType , FloatType\n",
    "\n",
    "schema = StructType([\n",
    "    StructField('Item Type', StringType(), True),\n",
    "    StructField('Sum of Total Revenue', FloatType(), True)\n",
    "])\n",
    "\n",
    "# Create data frame\n",
    "\n",
    "df = spark.createDataFrame(rddcountryukkvggregateByKey,schema)\n",
    "\n",
    "# show data frame\n",
    "\n",
    "df.show()\n"
   ]
  }
 ],
 "metadata": {
  "kernelspec": {
   "display_name": "PySpark",
   "language": "python",
   "name": "pysparkkernel"
  },
  "language_info": {
   "codemirror_mode": {
    "name": "python",
    "version": 3
   },
   "file_extension": ".py",
   "mimetype": "text/x-python",
   "name": "pyspark",
   "pygments_lexer": "python3"
  }
 },
 "nbformat": 4,
 "nbformat_minor": 5
}

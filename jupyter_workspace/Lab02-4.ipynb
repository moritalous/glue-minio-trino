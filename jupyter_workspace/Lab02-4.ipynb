{
 "cells": [
  {
   "cell_type": "markdown",
   "id": "00a4092f-0a50-4702-a619-f91cbe67e47e",
   "metadata": {},
   "source": [
    "# Using Data Catalog\n",
    "https://catalog.us-east-1.prod.workshops.aws/workshops/ee59d21b-4cb8-4b3d-a629-24537cf37bb5/en-US/lab2/datacatalog"
   ]
  },
  {
   "cell_type": "markdown",
   "id": "af8df298-622b-4ef8-82d7-a6a8c6b7267c",
   "metadata": {},
   "source": [
    "Glueからの取得ではないので少し改変"
   ]
  },
  {
   "cell_type": "code",
   "execution_count": 1,
   "id": "32ff8560-50f8-4f8b-9fba-8b6f91ce79ed",
   "metadata": {},
   "outputs": [
    {
     "name": "stdout",
     "output_type": "stream",
     "text": [
      "Starting Spark application\n"
     ]
    },
    {
     "data": {
      "text/html": [
       "<table>\n",
       "<tr><th>ID</th><th>YARN Application ID</th><th>Kind</th><th>State</th><th>Spark UI</th><th>Driver log</th><th>User</th><th>Current session?</th></tr><tr><td>6</td><td>None</td><td>pyspark</td><td>idle</td><td></td><td></td><td>None</td><td>✔</td></tr></table>"
      ],
      "text/plain": [
       "<IPython.core.display.HTML object>"
      ]
     },
     "metadata": {},
     "output_type": "display_data"
    },
    {
     "data": {
      "application/vnd.jupyter.widget-view+json": {
       "model_id": "",
       "version_major": 2,
       "version_minor": 0
      },
      "text/plain": [
       "FloatProgress(value=0.0, bar_style='info', description='Progress:', layout=Layout(height='25px', width='50%'),…"
      ]
     },
     "metadata": {},
     "output_type": "display_data"
    },
    {
     "name": "stdout",
     "output_type": "stream",
     "text": [
      "SparkSession available as 'spark'.\n"
     ]
    },
    {
     "data": {
      "application/vnd.jupyter.widget-view+json": {
       "model_id": "",
       "version_major": 2,
       "version_minor": 0
      },
      "text/plain": [
       "FloatProgress(value=0.0, bar_style='info', description='Progress:', layout=Layout(height='25px', width='50%'),…"
      ]
     },
     "metadata": {},
     "output_type": "display_data"
    },
    {
     "name": "stdout",
     "output_type": "stream",
     "text": [
      "root\n",
      "|-- uuid: string\n",
      "|-- country: string\n",
      "|-- item_type: string\n",
      "|-- sales_channel: string\n",
      "|-- order_priority: string\n",
      "|-- order_date: string\n",
      "|-- region: string\n",
      "|-- ship_date: string\n",
      "|-- units_sold: string\n",
      "|-- unit_price: string\n",
      "|-- unit_cost: string\n",
      "|-- total_revenue: string\n",
      "|-- total_cost: string\n",
      "|-- total_profit: string"
     ]
    }
   ],
   "source": [
    "import sys\n",
    "from awsglue.transforms import *\n",
    "from awsglue.utils import getResolvedOptions\n",
    "from pyspark.context import SparkContext\n",
    "from awsglue.context import GlueContext\n",
    "from awsglue.job import Job\n",
    "from awsglue.dynamicframe import DynamicFrame\n",
    "\n",
    "glueContext = GlueContext(SparkContext.getOrCreate())\n",
    "\n",
    "df_athena_csv = spark.sql(\"select * from athena_glueworkshop.athena_csv\")\n",
    "\n",
    "dynamic_frame = DynamicFrame.fromDF(df_athena_csv, glueContext, 'athena_csv')\n",
    "dynamic_frame.printSchema()"
   ]
  },
  {
   "cell_type": "code",
   "execution_count": 2,
   "id": "d23a1cb5-311e-4156-8dba-249af3ced887",
   "metadata": {},
   "outputs": [
    {
     "data": {
      "application/vnd.jupyter.widget-view+json": {
       "model_id": "",
       "version_major": 2,
       "version_minor": 0
      },
      "text/plain": [
       "FloatProgress(value=0.0, bar_style='info', description='Progress:', layout=Layout(height='25px', width='50%'),…"
      ]
     },
     "metadata": {},
     "output_type": "display_data"
    },
    {
     "name": "stdout",
     "output_type": "stream",
     "text": [
      "+---------+--------------------+-------------+-------------+--------------+----------+--------------------+---------+----------+----------+---------+-------------+----------+------------+\n",
      "|     uuid|             country|    item_type|sales_channel|order_priority|order_date|              region|ship_date|units_sold|unit_price|unit_cost|total_revenue|total_cost|total_profit|\n",
      "+---------+--------------------+-------------+-------------+--------------+----------+--------------------+---------+----------+----------+---------+-------------+----------+------------+\n",
      "|     uuid|             Country|    Item Type|Sales Channel|Order Priority|Order Date|              Region|Ship Date|Units Sold|Unit Price|Unit Cost|Total Revenue|Total Cost|Total Profit|\n",
      "|535113847|          Azerbaijan|       Snacks|       Online|             C|   10/8/14|Middle East and N...| 10/23/14|       934|    152.58|    97.44|    142509.72|  91008.96|    51500.76|\n",
      "|874708545|              Panama|    Cosmetics|      Offline|             L|   2/22/15|Central America a...|  2/27/15|      4551|     437.2|   263.33|    1989697.2|1198414.83|   791282.37|\n",
      "|854349935|Sao Tome and Prin...|       Fruits|      Offline|             M|   12/9/15|  Sub-Saharan Africa|  1/18/16|      9986|      9.33|     6.92|     93169.38|  69103.12|    24066.26|\n",
      "|892836844|Sao Tome and Prin...|Personal Care|       Online|             M|   9/17/14|  Sub-Saharan Africa| 10/12/14|      9118|     81.73|    56.67|    745214.14| 516717.06|   228497.08|\n",
      "|129280602|              Belize|    Household|      Offline|             H|    2/4/10|Central America a...|   3/5/10|      5858|    668.27|   502.54|   3914725.66|2943879.32|   970846.34|\n",
      "|473105037|             Denmark|      Clothes|       Online|             C|   2/20/13|              Europe|  2/28/13|      1149|    109.28|    35.84|    125562.72|  41180.16|    84382.56|\n",
      "|754046475|             Germany|    Cosmetics|      Offline|             M|   3/31/13|              Europe|   5/3/13|      7964|     437.2|   263.33|    3481860.8|2097160.12|  1384700.68|\n",
      "|772153747|              Turkey|       Fruits|       Online|             C|   3/26/12|Middle East and N...|   4/7/12|      6307|      9.33|     6.92|     58844.31|  43644.44|    15199.87|\n",
      "|847788178|      United Kingdom|       Snacks|       Online|             H|  12/29/12|              Europe|  1/15/13|      8217|    152.58|    97.44|   1253749.86| 800664.48|   453085.38|\n",
      "+---------+--------------------+-------------+-------------+--------------+----------+--------------------+---------+----------+----------+---------+-------------+----------+------------+\n",
      "only showing top 10 rows"
     ]
    }
   ],
   "source": [
    "dynamic_frame.toDF().show(10)"
   ]
  }
 ],
 "metadata": {
  "kernelspec": {
   "display_name": "PySpark",
   "language": "python",
   "name": "pysparkkernel"
  },
  "language_info": {
   "codemirror_mode": {
    "name": "python",
    "version": 3
   },
   "file_extension": ".py",
   "mimetype": "text/x-python",
   "name": "pyspark",
   "pygments_lexer": "python3"
  }
 },
 "nbformat": 4,
 "nbformat_minor": 5
}

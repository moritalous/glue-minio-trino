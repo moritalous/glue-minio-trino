{
 "cells": [
  {
   "cell_type": "markdown",
   "id": "7fe69bf0-9b49-447d-a8c2-b70f011d5f79",
   "metadata": {},
   "source": [
    "# Using 3rd Party Library\n",
    "https://catalog.us-east-1.prod.workshops.aws/workshops/ee59d21b-4cb8-4b3d-a629-24537cf37bb5/en-US/lab2/etl-code"
   ]
  },
  {
   "cell_type": "code",
   "execution_count": 1,
   "id": "8004d297-8986-4312-a2d8-11c2898ac73e",
   "metadata": {},
   "outputs": [
    {
     "name": "stdout",
     "output_type": "stream",
     "text": [
      "Defaulting to user installation because normal site-packages is not writeable\n",
      "Processing /home/glue_user/workspace/jupyter_workspace/pycountry-convert\n",
      "  Preparing metadata (setup.py): started\n",
      "  Preparing metadata (setup.py): finished with status 'done'\n",
      "Collecting pprintpp>=0.2.3\n",
      "  Downloading pprintpp-0.4.0-py2.py3-none-any.whl (16 kB)\n",
      "Collecting pycountry>=16.11.27.1\n",
      "  Downloading pycountry-22.3.5.tar.gz (10.1 MB)\n",
      "     ━━━━━━━━━━━━━━━━━━━━━━━━━━━━━━━━━━━━━━━━ 10.1/10.1 MB 9.3 MB/s eta 0:00:00\n",
      "  Installing build dependencies: started\n",
      "  Installing build dependencies: finished with status 'done'\n",
      "  Getting requirements to build wheel: started\n",
      "  Getting requirements to build wheel: finished with status 'done'\n",
      "  Preparing metadata (pyproject.toml): started\n",
      "  Preparing metadata (pyproject.toml): finished with status 'done'\n",
      "Requirement already satisfied: wheel>=0.29.0 in /home/glue_user/.local/lib/python3.7/site-packages (from pycountry-convert==0.2.2) (0.37.0)\n",
      "Requirement already satisfied: setuptools in /home/glue_user/.local/lib/python3.7/site-packages (from pycountry>=16.11.27.1->pycountry-convert==0.2.2) (49.1.3)\n",
      "Building wheels for collected packages: pycountry-convert, pycountry\n",
      "  Building wheel for pycountry-convert (setup.py): started\n",
      "  Building wheel for pycountry-convert (setup.py): finished with status 'done'\n",
      "  Created wheel for pycountry-convert: filename=pycountry_convert-0.2.2-py3-none-any.whl size=12451 sha256=f991d36cf3f9d32bdb0d7331c071019fb58188f972c51421c0c96b539e27c1c9\n",
      "  Stored in directory: /home/glue_user/.cache/pip/wheels/16/26/7a/f1e19b4992a30de1c8f148147a05343f2084d2274f30a280ff\n",
      "  Building wheel for pycountry (pyproject.toml): started\n",
      "  Building wheel for pycountry (pyproject.toml): finished with status 'done'\n",
      "  Created wheel for pycountry: filename=pycountry-22.3.5-py2.py3-none-any.whl size=10681832 sha256=3337ff13574d66293da8c812bd2c6800fff57257af261fb27c0649ee054c15de\n",
      "  Stored in directory: /home/glue_user/.cache/pip/wheels/0e/06/e8/7ee176e95ea9a8a8c3b3afcb1869f20adbd42413d4611c6eb4\n",
      "Successfully built pycountry-convert pycountry\n",
      "Installing collected packages: pprintpp, pycountry, pycountry-convert\n",
      "Successfully installed pprintpp-0.4.0 pycountry-22.3.5 pycountry-convert-0.2.2\n"
     ]
    },
    {
     "name": "stderr",
     "output_type": "stream",
     "text": [
      "Cloning into 'pycountry-convert'...\n",
      "--- Logging error ---\n",
      "Traceback (most recent call last):\n",
      "  File \"/home/glue_user/.local/lib/python3.7/site-packages/pip/_internal/utils/logging.py\", line 177, in emit\n",
      "    self.console.print(renderable, overflow=\"ignore\", crop=False, style=style)\n",
      "  File \"/home/glue_user/.local/lib/python3.7/site-packages/pip/_vendor/rich/console.py\", line 1673, in print\n",
      "    extend(render(renderable, render_options))\n",
      "  File \"/home/glue_user/.local/lib/python3.7/site-packages/pip/_vendor/rich/console.py\", line 1305, in render\n",
      "    for render_output in iter_render:\n",
      "  File \"/home/glue_user/.local/lib/python3.7/site-packages/pip/_internal/utils/logging.py\", line 134, in __rich_console__\n",
      "    for line in lines:\n",
      "  File \"/home/glue_user/.local/lib/python3.7/site-packages/pip/_vendor/rich/segment.py\", line 249, in split_lines\n",
      "    for segment in segments:\n",
      "  File \"/home/glue_user/.local/lib/python3.7/site-packages/pip/_vendor/rich/console.py\", line 1283, in render\n",
      "    renderable = rich_cast(renderable)\n",
      "  File \"/home/glue_user/.local/lib/python3.7/site-packages/pip/_vendor/rich/protocol.py\", line 36, in rich_cast\n",
      "    renderable = cast_method()\n",
      "  File \"/home/glue_user/.local/lib/python3.7/site-packages/pip/_internal/self_outdated_check.py\", line 130, in __rich__\n",
      "    pip_cmd = get_best_invocation_for_this_pip()\n",
      "  File \"/home/glue_user/.local/lib/python3.7/site-packages/pip/_internal/utils/entrypoints.py\", line 60, in get_best_invocation_for_this_pip\n",
      "    os.path.join(binary_prefix, exe_name),\n",
      "  File \"/usr/lib64/python3.7/genericpath.py\", line 101, in samefile\n",
      "    s2 = os.stat(f2)\n",
      "FileNotFoundError: [Errno 2] No such file or directory: '/usr/bin/pip'\n",
      "Call stack:\n",
      "  File \"/home/glue_user/.local/bin/pip\", line 8, in <module>\n",
      "    sys.exit(main())\n",
      "  File \"/home/glue_user/.local/lib/python3.7/site-packages/pip/_internal/cli/main.py\", line 70, in main\n",
      "    return command.main(cmd_args)\n",
      "  File \"/home/glue_user/.local/lib/python3.7/site-packages/pip/_internal/cli/base_command.py\", line 101, in main\n",
      "    return self._main(args)\n",
      "  File \"/home/glue_user/.local/lib/python3.7/site-packages/pip/_internal/cli/base_command.py\", line 223, in _main\n",
      "    self.handle_pip_version_check(options)\n",
      "  File \"/home/glue_user/.local/lib/python3.7/site-packages/pip/_internal/cli/req_command.py\", line 190, in handle_pip_version_check\n",
      "    pip_self_version_check(session, options)\n",
      "  File \"/home/glue_user/.local/lib/python3.7/site-packages/pip/_internal/self_outdated_check.py\", line 236, in pip_self_version_check\n",
      "    logger.warning(\"[present-rich] %s\", upgrade_prompt)\n",
      "  File \"/usr/lib64/python3.7/logging/__init__.py\", line 1390, in warning\n",
      "    self._log(WARNING, msg, args, **kwargs)\n",
      "  File \"/usr/lib64/python3.7/logging/__init__.py\", line 1514, in _log\n",
      "    self.handle(record)\n",
      "  File \"/usr/lib64/python3.7/logging/__init__.py\", line 1524, in handle\n",
      "    self.callHandlers(record)\n",
      "  File \"/usr/lib64/python3.7/logging/__init__.py\", line 1586, in callHandlers\n",
      "    hdlr.handle(record)\n",
      "  File \"/usr/lib64/python3.7/logging/__init__.py\", line 894, in handle\n",
      "    self.emit(record)\n",
      "  File \"/home/glue_user/.local/lib/python3.7/site-packages/pip/_internal/utils/logging.py\", line 179, in emit\n",
      "    self.handleError(record)\n",
      "Message: '[present-rich] %s'\n",
      "Arguments: (UpgradePrompt(old='22.2.2', new='22.3'),)\n"
     ]
    }
   ],
   "source": [
    "%%bash\n",
    "git clone https://github.com/jefftune/pycountry-convert.git\n",
    "cd pycountry-convert\n",
    "pip install ./"
   ]
  },
  {
   "cell_type": "code",
   "execution_count": 2,
   "id": "7a1efa95-7154-4ccc-b0fb-58d5e3e66e07",
   "metadata": {},
   "outputs": [
    {
     "name": "stdout",
     "output_type": "stream",
     "text": [
      "Starting Spark application\n"
     ]
    },
    {
     "data": {
      "text/html": [
       "<table>\n",
       "<tr><th>ID</th><th>YARN Application ID</th><th>Kind</th><th>State</th><th>Spark UI</th><th>Driver log</th><th>User</th><th>Current session?</th></tr><tr><td>5</td><td>None</td><td>pyspark</td><td>idle</td><td></td><td></td><td>None</td><td>✔</td></tr></table>"
      ],
      "text/plain": [
       "<IPython.core.display.HTML object>"
      ]
     },
     "metadata": {},
     "output_type": "display_data"
    },
    {
     "data": {
      "application/vnd.jupyter.widget-view+json": {
       "model_id": "",
       "version_major": 2,
       "version_minor": 0
      },
      "text/plain": [
       "FloatProgress(value=0.0, bar_style='info', description='Progress:', layout=Layout(height='25px', width='50%'),…"
      ]
     },
     "metadata": {},
     "output_type": "display_data"
    },
    {
     "name": "stdout",
     "output_type": "stream",
     "text": [
      "SparkSession available as 'spark'.\n"
     ]
    },
    {
     "data": {
      "application/vnd.jupyter.widget-view+json": {
       "model_id": "",
       "version_major": 2,
       "version_minor": 0
      },
      "text/plain": [
       "FloatProgress(value=0.0, bar_style='info', description='Progress:', layout=Layout(height='25px', width='50%'),…"
      ]
     },
     "metadata": {},
     "output_type": "display_data"
    }
   ],
   "source": [
    "from pyspark.sql.functions import udf, col\n",
    "from pyspark.sql.types import IntegerType, StringType\n",
    "from pyspark import SparkContext\n",
    "from pyspark.sql import SQLContext\n",
    "\n",
    "from datetime import datetime\n",
    "from pycountry_convert import (\n",
    "    convert_country_alpha2_to_country_name,\n",
    "    convert_country_alpha2_to_continent,\n",
    "    convert_country_name_to_country_alpha2,\n",
    "    convert_country_alpha3_to_country_alpha2,\n",
    ")"
   ]
  },
  {
   "cell_type": "code",
   "execution_count": 3,
   "id": "d268fb63-ab38-40d7-8094-724279fccc6c",
   "metadata": {},
   "outputs": [
    {
     "data": {
      "application/vnd.jupyter.widget-view+json": {
       "model_id": "",
       "version_major": 2,
       "version_minor": 0
      },
      "text/plain": [
       "FloatProgress(value=0.0, bar_style='info', description='Progress:', layout=Layout(height='25px', width='50%'),…"
      ]
     },
     "metadata": {},
     "output_type": "display_data"
    }
   ],
   "source": [
    "df = spark.read.load(\"s3://bucket001/input/lab2/sample.csv\", \n",
    "                          format=\"csv\", \n",
    "                          sep=\",\", \n",
    "                          inferSchema=\"true\",\n",
    "                          header=\"true\")"
   ]
  },
  {
   "cell_type": "code",
   "execution_count": 4,
   "id": "d97c039e-a493-4fac-b8d9-46d51cd62f32",
   "metadata": {},
   "outputs": [
    {
     "data": {
      "application/vnd.jupyter.widget-view+json": {
       "model_id": "",
       "version_major": 2,
       "version_minor": 0
      },
      "text/plain": [
       "FloatProgress(value=0.0, bar_style='info', description='Progress:', layout=Layout(height='25px', width='50%'),…"
      ]
     },
     "metadata": {},
     "output_type": "display_data"
    }
   ],
   "source": [
    "def get_country_code2(country_name):\n",
    "    country_code2 = 'US'\n",
    "    try:\n",
    "        country_code2 = convert_country_name_to_country_alpha2(country_name)\n",
    "    except KeyError:\n",
    "        country_code2 = ''\n",
    "    return country_code2\n",
    "\n",
    "udf_get_country_code2 = udf(lambda z: get_country_code2(z), StringType())"
   ]
  },
  {
   "cell_type": "code",
   "execution_count": 5,
   "id": "d1f93896-972b-406f-9f85-e20c0b920708",
   "metadata": {},
   "outputs": [
    {
     "data": {
      "application/vnd.jupyter.widget-view+json": {
       "model_id": "",
       "version_major": 2,
       "version_minor": 0
      },
      "text/plain": [
       "FloatProgress(value=0.0, bar_style='info', description='Progress:', layout=Layout(height='25px', width='50%'),…"
      ]
     },
     "metadata": {},
     "output_type": "display_data"
    },
    {
     "name": "stdout",
     "output_type": "stream",
     "text": [
      "root\n",
      " |-- uuid: integer (nullable = true)\n",
      " |-- country: string (nullable = true)\n",
      " |-- itemtype: string (nullable = true)\n",
      " |-- saleschannel: string (nullable = true)\n",
      " |-- orderpriority: string (nullable = true)\n",
      " |-- orderdate: string (nullable = true)\n",
      " |-- region: string (nullable = true)\n",
      " |-- shipdate: string (nullable = true)\n",
      " |-- unitssold: integer (nullable = true)\n",
      " |-- unitprice: double (nullable = true)\n",
      " |-- unitcost: double (nullable = true)\n",
      " |-- totalrevenue: double (nullable = true)\n",
      " |-- totalcost: double (nullable = true)\n",
      " |-- totalprofit: double (nullable = true)\n",
      " |-- country_code_2: string (nullable = true)"
     ]
    }
   ],
   "source": [
    "new_df = df.withColumn('country_code_2', udf_get_country_code2(col(\"Country\")))\n",
    "new_df.printSchema()"
   ]
  },
  {
   "cell_type": "code",
   "execution_count": 6,
   "id": "e43f5bab-d244-4012-a27f-2506d8dc3795",
   "metadata": {},
   "outputs": [
    {
     "data": {
      "application/vnd.jupyter.widget-view+json": {
       "model_id": "",
       "version_major": 2,
       "version_minor": 0
      },
      "text/plain": [
       "FloatProgress(value=0.0, bar_style='info', description='Progress:', layout=Layout(height='25px', width='50%'),…"
      ]
     },
     "metadata": {},
     "output_type": "display_data"
    },
    {
     "name": "stdout",
     "output_type": "stream",
     "text": [
      "+---------+--------------------+-------------+------------+-------------+---------+--------------------+--------+---------+---------+--------+------------+----------+-----------+--------------+\n",
      "|     uuid|             country|     itemtype|saleschannel|orderpriority|orderdate|              region|shipdate|unitssold|unitprice|unitcost|totalrevenue| totalcost|totalprofit|country_code_2|\n",
      "+---------+--------------------+-------------+------------+-------------+---------+--------------------+--------+---------+---------+--------+------------+----------+-----------+--------------+\n",
      "|535113847|          Azerbaijan|       Snacks|      Online|            C|  10/8/14|Middle East and N...|10/23/14|      934|   152.58|   97.44|   142509.72|  91008.96|   51500.76|            AZ|\n",
      "|874708545|              Panama|    Cosmetics|     Offline|            L|  2/22/15|Central America a...| 2/27/15|     4551|    437.2|  263.33|   1989697.2|1198414.83|  791282.37|            PA|\n",
      "|854349935|Sao Tome and Prin...|       Fruits|     Offline|            M|  12/9/15|  Sub-Saharan Africa| 1/18/16|     9986|     9.33|    6.92|    93169.38|  69103.12|   24066.26|              |\n",
      "|892836844|Sao Tome and Prin...|Personal Care|      Online|            M|  9/17/14|  Sub-Saharan Africa|10/12/14|     9118|    81.73|   56.67|   745214.14| 516717.06|  228497.08|              |\n",
      "|129280602|              Belize|    Household|     Offline|            H|   2/4/10|Central America a...|  3/5/10|     5858|   668.27|  502.54|  3914725.66|2943879.32|  970846.34|            BZ|\n",
      "|473105037|             Denmark|      Clothes|      Online|            C|  2/20/13|              Europe| 2/28/13|     1149|   109.28|   35.84|   125562.72|  41180.16|   84382.56|            DK|\n",
      "|754046475|             Germany|    Cosmetics|     Offline|            M|  3/31/13|              Europe|  5/3/13|     7964|    437.2|  263.33|   3481860.8|2097160.12| 1384700.68|            DE|\n",
      "|772153747|              Turkey|       Fruits|      Online|            C|  3/26/12|Middle East and N...|  4/7/12|     6307|     9.33|    6.92|    58844.31|  43644.44|   15199.87|            TR|\n",
      "|847788178|      United Kingdom|       Snacks|      Online|            H| 12/29/12|              Europe| 1/15/13|     8217|   152.58|   97.44|  1253749.86| 800664.48|  453085.38|            GB|\n",
      "|471623599|          Kazakhstan|    Cosmetics|      Online|            H|  9/11/15|                Asia| 9/18/15|     2758|    437.2|  263.33|   1205797.6| 726264.14|  479533.46|            KZ|\n",
      "+---------+--------------------+-------------+------------+-------------+---------+--------------------+--------+---------+---------+--------+------------+----------+-----------+--------------+\n",
      "only showing top 10 rows"
     ]
    }
   ],
   "source": [
    "new_df.show(10)"
   ]
  }
 ],
 "metadata": {
  "kernelspec": {
   "display_name": "PySpark",
   "language": "python",
   "name": "pysparkkernel"
  },
  "language_info": {
   "codemirror_mode": {
    "name": "python",
    "version": 3
   },
   "file_extension": ".py",
   "mimetype": "text/x-python",
   "name": "pyspark",
   "pygments_lexer": "python3"
  }
 },
 "nbformat": 4,
 "nbformat_minor": 5
}

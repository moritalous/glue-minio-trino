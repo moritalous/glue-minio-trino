{
 "cells": [
  {
   "cell_type": "markdown",
   "id": "e2d37919-0b83-494a-9e11-8b05b30b88a1",
   "metadata": {},
   "source": [
    "# Prepare S3 Bucket and Clone Files\n",
    "https://catalog.us-east-1.prod.workshops.aws/workshops/ee59d21b-4cb8-4b3d-a629-24537cf37bb5/en-US/howtostart/selfpacedlabs/s3-and-local-file"
   ]
  },
  {
   "cell_type": "markdown",
   "id": "cbfd5fa5-81de-4b36-97d9-6529416dd060",
   "metadata": {},
   "source": [
    "* S3(minio)のバケットを作成"
   ]
  },
  {
   "cell_type": "code",
   "execution_count": 2,
   "id": "289d37cf-0fcb-4f98-9bec-3f4bec70bc56",
   "metadata": {},
   "outputs": [
    {
     "name": "stdout",
     "output_type": "stream",
     "text": [
      "make_bucket: bucket001\n"
     ]
    }
   ],
   "source": [
    "%%bash\n",
    "aws s3 mb s3://bucket001 --endpoint-url http://minio:9000"
   ]
  },
  {
   "cell_type": "markdown",
   "id": "2ad5d8b5-8c49-4c57-8202-ca92347b9b61",
   "metadata": {},
   "source": [
    "* ワークショップのファイルを取得"
   ]
  },
  {
   "cell_type": "code",
   "execution_count": 3,
   "id": "b9d8aa16-64c2-4a85-a6fd-d06924803e60",
   "metadata": {},
   "outputs": [
    {
     "name": "stdout",
     "output_type": "stream",
     "text": [
      "download: s3://ee-assets-prod-us-east-1/modules/aa287fde7dd448ffac85ed7824e5c1f0/v8/download/glue-workshop.zip to ./glue-workshop.zip\n",
      "Archive:  glue-workshop.zip\n",
      "   creating: glue-workshop/\n",
      "  inflating: __MACOSX/._glue-workshop  \n",
      "  inflating: glue-workshop/.DS_Store  \n",
      "  inflating: __MACOSX/glue-workshop/._.DS_Store  \n",
      "   creating: glue-workshop/code/\n",
      "   creating: glue-workshop/cloudformation/\n",
      "   creating: glue-workshop/data/\n",
      "   creating: glue-workshop/code/lab8/\n",
      "   creating: glue-workshop/code/lab9/\n",
      "  inflating: glue-workshop/code/.DS_Store  \n",
      "   creating: glue-workshop/code/lab3/\n",
      "   creating: glue-workshop/code/lab4/\n",
      "  inflating: glue-workshop/cloudformation/NoVPCv2.yaml  \n",
      "  inflating: glue-workshop/cloudformation/EE_Only.yaml  \n",
      "  inflating: glue-workshop/cloudformation/WithVPCv2.yaml  \n",
      "  inflating: glue-workshop/cloudformation/EE_WithVPC.yaml  \n",
      "  inflating: glue-workshop/cloudformation/WithVPC.yaml  \n",
      "   creating: glue-workshop/data/lab1/\n",
      "   creating: glue-workshop/data/lab6/\n",
      "   creating: glue-workshop/data/lab7/\n",
      "   creating: glue-workshop/data/lab9/\n",
      "  inflating: glue-workshop/data/.DS_Store  \n",
      "  inflating: __MACOSX/glue-workshop/data/._.DS_Store  \n",
      "   creating: glue-workshop/data/lab5/\n",
      "   creating: glue-workshop/data/lab2/\n",
      "   creating: glue-workshop/data/lab4/\n",
      "  inflating: glue-workshop/code/lab8/vaccine-count-data-process.py  \n",
      "  inflating: glue-workshop/code/lab8/vaccine-count-data-extract.py  \n",
      "  inflating: glue-workshop/code/lab8/raise-error-job.py  \n",
      "  inflating: glue-workshop/code/lab8/covid-case-count-data-extract.py  \n",
      "  inflating: glue-workshop/code/lab8/covid-case-count-data-process.py  \n",
      "  inflating: glue-workshop/code/lab9/.DS_Store  \n",
      "  inflating: __MACOSX/glue-workshop/code/lab9/._.DS_Store  \n",
      "  inflating: glue-workshop/code/lab9/source.zip  \n",
      "  inflating: __MACOSX/glue-workshop/code/lab9/._source.zip  \n",
      "  inflating: glue-workshop/code/lab9/glue-cicd.yml  \n",
      "  inflating: __MACOSX/glue-workshop/code/lab9/._glue-cicd.yml  \n",
      "  inflating: glue-workshop/code/lab3/spark.py  \n",
      "  inflating: glue-workshop/code/lab3/Lab 3 DDB Notebook.ipynb  \n",
      "  inflating: glue-workshop/code/lab3/spark-ddb.py  \n",
      "  inflating: glue-workshop/code/lab4/PutRecord_Kinesis.py  \n",
      "  inflating: glue-workshop/code/lab4/streaming.py  \n",
      "   creating: glue-workshop/data/lab1/eventnotification/\n",
      "   creating: glue-workshop/data/lab1/csv/\n",
      "   creating: glue-workshop/data/lab6/country_lookup/\n",
      "  inflating: glue-workshop/data/lab7/.DS_Store  \n",
      "  inflating: __MACOSX/glue-workshop/data/lab7/._.DS_Store  \n",
      "   creating: glue-workshop/data/lab7/scaling/\n",
      "  inflating: glue-workshop/data/lab9/.DS_Store  \n",
      "  inflating: __MACOSX/glue-workshop/data/lab9/._.DS_Store  \n",
      "   creating: glue-workshop/data/lab9/us-states/\n",
      "  inflating: glue-workshop/data/lab5/.DS_Store  \n",
      "  inflating: __MACOSX/glue-workshop/data/lab5/._.DS_Store  \n",
      "   creating: glue-workshop/data/lab5/state/\n",
      "  inflating: glue-workshop/data/lab2/sample.csv  \n",
      "   creating: glue-workshop/data/lab4/country_lookup/\n",
      "   creating: glue-workshop/data/lab4/json/\n",
      "   creating: glue-workshop/data/lab1/eventnotification/csv/\n",
      "  inflating: glue-workshop/data/lab1/csv/sample.csv  \n",
      "  inflating: glue-workshop/data/lab6/country_lookup/country_lookup.csv  \n",
      "  inflating: glue-workshop/data/lab7/scaling/part-00000-cf97d9c5-fa12-4653-8f2e-5c673603e20a.snappy.parquet  \n",
      "  inflating: glue-workshop/data/lab7/scaling/part-00000-c68b1d53-8bbd-4a7e-99a8-642fe9a6a847.snappy.parquet  \n",
      "  inflating: glue-workshop/data/lab9/us-states/us-states.csv  \n",
      "  inflating: glue-workshop/data/lab5/state/states.csv  \n",
      "  inflating: glue-workshop/data/lab4/country_lookup/country_lookup.csv  \n",
      "  inflating: glue-workshop/data/lab4/json/sample.json  \n",
      "  inflating: glue-workshop/data/lab1/eventnotification/csv/country_lookup.csv  \n",
      "download: s3://covid19-lake/rearc-covid-19-testing-data/json/states_daily/part-00000-f4cc40a0-a34a-4d6c-8cad-4ffef97e2ae2-c000.json to data/lab5/json/part-00000-f4cc40a0-a34a-4d6c-8cad-4ffef97e2ae2-c000.json\n",
      "upload: code/.DS_Store to s3://bucket001/script/.DS_Store                           \n",
      "upload: code/lab3/spark.py to s3://bucket001/script/lab3/spark.py                   \n",
      "upload: code/lab3/Lab 3 DDB Notebook.ipynb to s3://bucket001/script/lab3/Lab 3 DDB Notebook.ipynb\n",
      "upload: code/lab3/spark-ddb.py to s3://bucket001/script/lab3/spark-ddb.py            \n",
      "upload: code/lab4/PutRecord_Kinesis.py to s3://bucket001/script/lab4/PutRecord_Kinesis.py\n",
      "upload: code/lab4/streaming.py to s3://bucket001/script/lab4/streaming.py            \n",
      "upload: code/lab8/covid-case-count-data-process.py to s3://bucket001/script/lab8/covid-case-count-data-process.py\n",
      "upload: code/lab8/covid-case-count-data-extract.py to s3://bucket001/script/lab8/covid-case-count-data-extract.py\n",
      "upload: code/lab8/raise-error-job.py to s3://bucket001/script/lab8/raise-error-job.py\n",
      "upload: code/lab8/vaccine-count-data-extract.py to s3://bucket001/script/lab8/vaccine-count-data-extract.py\n",
      "upload: code/lab8/vaccine-count-data-process.py to s3://bucket001/script/lab8/vaccine-count-data-process.py\n",
      "upload: code/lab9/.DS_Store to s3://bucket001/script/lab9/.DS_Store\n",
      "upload: code/lab9/glue-cicd.yml to s3://bucket001/script/lab9/glue-cicd.yml\n",
      "upload: code/lab9/source.zip to s3://bucket001/script/lab9/source.zip\n",
      "upload: data/.DS_Store to s3://bucket001/input/.DS_Store                           \n",
      "upload: data/lab1/csv/sample.csv to s3://bucket001/input/lab1/csv/sample.csv        \n",
      "upload: data/lab1/eventnotification/csv/country_lookup.csv to s3://bucket001/input/lab1/eventnotification/csv/country_lookup.csv\n",
      "upload: data/lab4/country_lookup/country_lookup.csv to s3://bucket001/input/lab4/country_lookup/country_lookup.csv\n",
      "upload: data/lab4/json/sample.json to s3://bucket001/input/lab4/json/sample.json      \n",
      "upload: data/lab5/.DS_Store to s3://bucket001/input/lab5/.DS_Store                    \n",
      "upload: data/lab5/state/states.csv to s3://bucket001/input/lab5/state/states.csv       \n",
      "upload: data/lab7/.DS_Store to s3://bucket001/input/lab7/.DS_Store                   \n",
      "upload: data/lab6/country_lookup/country_lookup.csv to s3://bucket001/input/lab6/country_lookup/country_lookup.csv\n",
      "upload: data/lab5/json/part-00000-f4cc40a0-a34a-4d6c-8cad-4ffef97e2ae2-c000.json to s3://bucket001/input/lab5/json/part-00000-f4cc40a0-a34a-4d6c-8cad-4ffef97e2ae2-c000.json\n",
      "upload: data/lab2/sample.csv to s3://bucket001/input/lab2/sample.csv\n",
      "upload: data/lab9/.DS_Store to s3://bucket001/input/lab9/.DS_Store\n",
      "upload: data/lab9/us-states/us-states.csv to s3://bucket001/input/lab9/us-states/us-states.csv\n",
      "upload: data/lab7/scaling/part-00000-c68b1d53-8bbd-4a7e-99a8-642fe9a6a847.snappy.parquet to s3://bucket001/input/lab7/scaling/part-00000-c68b1d53-8bbd-4a7e-99a8-642fe9a6a847.snappy.parquet\n",
      "upload: data/lab7/scaling/part-00000-cf97d9c5-fa12-4653-8f2e-5c673603e20a.snappy.parquet to s3://bucket001/input/lab7/scaling/part-00000-cf97d9c5-fa12-4653-8f2e-5c673603e20a.snappy.parquet\n",
      "CPU times: user 514 ms, sys: 146 ms, total: 661 ms\n",
      "Wall time: 2min 7s\n"
     ]
    }
   ],
   "source": [
    "%%time\n",
    "%%bash\n",
    "\n",
    "mkdir -p environment\n",
    "cd environment\n",
    "\n",
    "aws s3 cp s3://ee-assets-prod-us-east-1/modules/aa287fde7dd448ffac85ed7824e5c1f0/v8/download/glue-workshop.zip glue-workshop.zip --no-sign-request\n",
    "\n",
    "unzip glue-workshop.zip\n",
    "\n",
    "rm -rf glue-workshop.zip __MACOSX\n",
    "\n",
    "mkdir -p glue-workshop/library glue-workshop/output\n",
    "\n",
    "cd glue-workshop\n",
    "\n",
    "BUCKET_NAME=bucket001\n",
    "\n",
    "aws s3 cp --recursive s3://covid19-lake/rearc-covid-19-testing-data/json/states_daily/ data/lab5/json/ --no-sign-request\n",
    "aws s3 cp --recursive code/ s3://${BUCKET_NAME}/script/ --endpoint-url http://minio:9000\n",
    "aws s3 cp --recursive data/ s3://${BUCKET_NAME}/input/ --endpoint-url http://minio:9000\n",
    "aws s3 cp --recursive library/ s3://${BUCKET_NAME}/library/ --endpoint-url http://minio:9000\n"
   ]
  }
 ],
 "metadata": {
  "kernelspec": {
   "display_name": "PySpark",
   "language": "python",
   "name": "pysparkkernel"
  },
  "language_info": {
   "codemirror_mode": {
    "name": "python",
    "version": 3
   },
   "file_extension": ".py",
   "mimetype": "text/x-python",
   "name": "pyspark",
   "pygments_lexer": "python3"
  }
 },
 "nbformat": 4,
 "nbformat_minor": 5
}
